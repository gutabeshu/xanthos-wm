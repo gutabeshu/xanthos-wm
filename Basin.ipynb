{
 "cells": [
  {
   "cell_type": "code",
   "execution_count": 1,
   "metadata": {},
   "outputs": [
    {
     "name": "stderr",
     "output_type": "stream",
     "text": [
      "INFO: ini_reader.log_info(): ProjectName : pm_abcd_mrtm_watch_1971_2001\n"
     ]
    },
    {
     "name": "stdout",
     "output_type": "stream",
     "text": [
      "INFO: ProjectName : pm_abcd_mrtm_watch_1971_2001\n"
     ]
    },
    {
     "name": "stderr",
     "output_type": "stream",
     "text": [
      "INFO: ini_reader.log_info(): InputFolder : D:\\XanthosDev\\example\\input\n"
     ]
    },
    {
     "name": "stdout",
     "output_type": "stream",
     "text": [
      "INFO: InputFolder : D:\\XanthosDev\\example\\input\n"
     ]
    },
    {
     "name": "stderr",
     "output_type": "stream",
     "text": [
      "INFO: ini_reader.log_info(): OutputFolder: D:\\XanthosDev\\example\\output\\pm_abcd_mrtm_watch_1971_2001\n"
     ]
    },
    {
     "name": "stdout",
     "output_type": "stream",
     "text": [
      "INFO: OutputFolder: D:\\XanthosDev\\example\\output\\pm_abcd_mrtm_watch_1971_2001\n"
     ]
    },
    {
     "name": "stderr",
     "output_type": "stream",
     "text": [
      "INFO: ini_reader.log_info(): StartYear - End Year: 1971-2001\n"
     ]
    },
    {
     "name": "stdout",
     "output_type": "stream",
     "text": [
      "INFO: StartYear - End Year: 1971-2001\n"
     ]
    },
    {
     "name": "stderr",
     "output_type": "stream",
     "text": [
      "INFO: ini_reader.log_info(): Number of Months    : 372\n"
     ]
    },
    {
     "name": "stdout",
     "output_type": "stream",
     "text": [
      "INFO: Number of Months    : 372\n"
     ]
    },
    {
     "name": "stderr",
     "output_type": "stream",
     "text": [
      "INFO: ini_reader.log_info(): Running: Historic Mode\n"
     ]
    },
    {
     "name": "stdout",
     "output_type": "stream",
     "text": [
      "INFO: Running: Historic Mode\n"
     ]
    },
    {
     "name": "stderr",
     "output_type": "stream",
     "text": [
      "WARNING: data_utils.load_to_array(): NaNs found in input file pr_gpcc_watch_monthly_mmpermth_1971_2001\n"
     ]
    },
    {
     "name": "stdout",
     "output_type": "stream",
     "text": [
      "WARNING: NaNs found in input file pr_gpcc_watch_monthly_mmpermth_1971_2001\n"
     ]
    },
    {
     "name": "stderr",
     "output_type": "stream",
     "text": [
      "WARNING: data_utils.load_to_array(): NaNs found in input file tasmin_watch_monthly_degc_1971_2001\n"
     ]
    },
    {
     "name": "stdout",
     "output_type": "stream",
     "text": [
      "WARNING: NaNs found in input file tasmin_watch_monthly_degc_1971_2001\n"
     ]
    },
    {
     "name": "stderr",
     "output_type": "stream",
     "text": [
      "DEBUG: session.<module>(): Could not import boto3, continuing with reduced functionality.\n"
     ]
    },
    {
     "name": "stdout",
     "output_type": "stream",
     "text": [
      "DEBUG: Could not import boto3, continuing with reduced functionality.\n"
     ]
    },
    {
     "name": "stderr",
     "output_type": "stream",
     "text": [
      "INFO: components.calibrate(): ---Processing PET...\n"
     ]
    },
    {
     "name": "stdout",
     "output_type": "stream",
     "text": [
      "INFO: ---Processing PET...\n"
     ]
    },
    {
     "name": "stderr",
     "output_type": "stream",
     "text": [
      "INFO: components.calibrate(): ---PET processed in 0.05781912803649902 seconds---\n"
     ]
    },
    {
     "name": "stdout",
     "output_type": "stream",
     "text": [
      "INFO: ---PET processed in 0.05781912803649902 seconds---\n"
     ]
    },
    {
     "name": "stderr",
     "output_type": "stream",
     "text": [
      "INFO: components.calibrate(): ---Loading calibration data:\n"
     ]
    },
    {
     "name": "stdout",
     "output_type": "stream",
     "text": [
      "INFO: ---Loading calibration data:\n"
     ]
    },
    {
     "name": "stderr",
     "output_type": "stream",
     "text": [
      "INFO: components.calibrate(): ---Running calibration:\n"
     ]
    },
    {
     "name": "stdout",
     "output_type": "stream",
     "text": [
      "INFO: ---Running calibration:\n"
     ]
    },
    {
     "name": "stderr",
     "output_type": "stream",
     "text": [
      "WARNING: data_utils.load_to_array(): NaNs found in input file pr_gpcc_watch_monthly_mmpermth_1971_2001\n"
     ]
    },
    {
     "name": "stdout",
     "output_type": "stream",
     "text": [
      "\tCalibrating Basin:  229\n",
      "WARNING: NaNs found in input file pr_gpcc_watch_monthly_mmpermth_1971_2001\n"
     ]
    },
    {
     "name": "stderr",
     "output_type": "stream",
     "text": [
      "WARNING: data_utils.load_to_array(): NaNs found in input file tasmin_watch_monthly_degc_1971_2001\n"
     ]
    },
    {
     "name": "stdout",
     "output_type": "stream",
     "text": [
      "WARNING: NaNs found in input file tasmin_watch_monthly_degc_1971_2001\n",
      "\tStarting The First Stage Parameter Selection : Runoff Parameters Selection\n",
      "Initializing the  Fast and Elitist Multiobjective Genetic Algorithm: NSGA-II  with  10000  repetitions\n",
      "The objective function will be minimized\n",
      "Initialize database...\n",
      "['csv', 'hdf5', 'ram', 'sql', 'custom', 'noData']\n",
      "* Database file 'D:/Xanthos-Repo/xanthos-wm/example/output/calibration\\basin_calibration_229_Runoff_ObjF_monthlyKGE.csv' created.\n",
      "21 of 10000, minimal objective function=-0.642154, time remaining: 00:18:53\n",
      "51 of 10000, minimal objective function=-0.662648, time remaining: 00:15:32\n",
      "81 of 10000, minimal objective function=-0.662648, time remaining: 00:14:46\n",
      "111 of 10000, minimal objective function=-0.662648, time remaining: 00:14:15\n",
      "141 of 10000, minimal objective function=-0.662648, time remaining: 00:14:09\n",
      "171 of 10000, minimal objective function=-0.662648, time remaining: 00:13:54\n",
      "201 of 10000, minimal objective function=-0.662648, time remaining: 00:13:47\n",
      "231 of 10000, minimal objective function=-0.662648, time remaining: 00:13:40\n",
      "261 of 10000, minimal objective function=-0.662648, time remaining: 00:13:36\n",
      "291 of 10000, minimal objective function=-0.662648, time remaining: 00:13:29\n",
      "321 of 10000, minimal objective function=-0.662648, time remaining: 00:13:23\n",
      "351 of 10000, minimal objective function=-0.662648, time remaining: 00:13:17\n",
      "381 of 10000, minimal objective function=-0.662648, time remaining: 00:13:12\n",
      "411 of 10000, minimal objective function=-0.662648, time remaining: 00:13:08\n",
      "441 of 10000, minimal objective function=-0.662648, time remaining: 00:13:04\n",
      "471 of 10000, minimal objective function=-0.662648, time remaining: 00:13:01\n",
      "501 of 10000, minimal objective function=-0.662648, time remaining: 00:12:58\n",
      "531 of 10000, minimal objective function=-0.662648, time remaining: 00:12:56\n",
      "561 of 10000, minimal objective function=-0.662648, time remaining: 00:12:52\n",
      "591 of 10000, minimal objective function=-0.662648, time remaining: 00:12:49\n",
      "621 of 10000, minimal objective function=-0.662648, time remaining: 00:12:44\n",
      "651 of 10000, minimal objective function=-0.662648, time remaining: 00:12:40\n",
      "681 of 10000, minimal objective function=-0.662648, time remaining: 00:12:36\n",
      "711 of 10000, minimal objective function=-0.662648, time remaining: 00:12:32\n",
      "741 of 10000, minimal objective function=-0.662648, time remaining: 00:12:29\n",
      "771 of 10000, minimal objective function=-0.662648, time remaining: 00:12:26\n",
      "801 of 10000, minimal objective function=-0.662648, time remaining: 00:12:22\n",
      "831 of 10000, minimal objective function=-0.662648, time remaining: 00:12:19\n",
      "861 of 10000, minimal objective function=-0.662648, time remaining: 00:12:16\n",
      "891 of 10000, minimal objective function=-0.662648, time remaining: 00:12:14\n",
      "921 of 10000, minimal objective function=-0.662648, time remaining: 00:12:10\n",
      "951 of 10000, minimal objective function=-0.662648, time remaining: 00:12:07\n",
      "981 of 10000, minimal objective function=-0.662648, time remaining: 00:12:03\n",
      "1011 of 10000, minimal objective function=-0.662648, time remaining: 00:12:01\n",
      "1041 of 10000, minimal objective function=-0.662648, time remaining: 00:11:58\n",
      "1071 of 10000, minimal objective function=-0.662648, time remaining: 00:11:55\n",
      "1101 of 10000, minimal objective function=-0.662648, time remaining: 00:11:52\n",
      "1131 of 10000, minimal objective function=-0.662648, time remaining: 00:11:52\n",
      "1161 of 10000, minimal objective function=-0.662648, time remaining: 00:11:50\n",
      "1191 of 10000, minimal objective function=-0.662648, time remaining: 00:11:47\n"
     ]
    }
   ],
   "source": [
    "import os\n",
    "\n",
    "import warnings\n",
    "warnings.filterwarnings(\"ignore\")\n",
    "\n",
    "os.chdir('D:/Xanthos-Repo/xanthos-wm/xanthos-wm')\n",
    "from xanthos import Xanthos\n",
    "\n",
    "\n",
    "def run(ini):\n",
    "\n",
    "    # instantiate model\n",
    "    xth = Xanthos(ini)\n",
    "\n",
    "    # run intended configuration\n",
    "    xth.execute()\n",
    "\n",
    "    return xth\n",
    "\n",
    "\n",
    "if __name__ == \"__main__\":\n",
    "\n",
    "    # full path to parameterized config file\n",
    "    ini = os.path.join('D:/Xanthos-Repo/xanthos-wm/pm_abcd_mrtm.ini')\n",
    "\n",
    "    # run the model\n",
    "    xth = run(ini)\n",
    "\n",
    "    del xth"
   ]
  },
  {
   "cell_type": "code",
   "execution_count": null,
   "metadata": {},
   "outputs": [],
   "source": [
    "# import numpy as np\n",
    "# import pandas as pd\n",
    "# import matplotlib.pyplot as plt\n",
    "# import xarray\n",
    "# import os\n",
    "\n",
    "# os.chdir('D:\\XanthosDev\\example\\input\\calibration')\n",
    "# reservoirs_halfDegree = xarray.open_dataset('Xanthos_reservoirs_halfDegree_global.nc')\n",
    "# ppose = reservoirs_halfDegree.Main_Use.values\n",
    "# Capacity = reservoirs_halfDegree.Capacity.values\n",
    "# Basin = reservoirs_halfDegree.Basin.values\n",
    "# # get grid indices for the current basin\n",
    "# dir_usgrid = 'D:/XanthosDev/Figures/Basins_Result/UScells/contributing_grids_all'\n",
    "# basin_num = 233\n",
    "# datad = (np.array(pd.read_csv(dir_usgrid + str(basin_num) + '.csv',header=None)) - 1).astype(np.int64)\n",
    "# basin_idx = np.squeeze(datad) \n",
    "\n",
    "# ppose_df = ppose[basin_idx]\n",
    "# Capacity_df = Capacity[basin_idx]\n",
    "\n",
    "# ppose_dfbasin = ppose_df[ppose_df>0]\n",
    "# capacity_dfbasin = Capacity_df[ppose_df>0]\n",
    "\n",
    "# indx_basin = np.where(ppose_dfbasin==1)[0]\n",
    "# #capacity_dfbasinHP = capacity_dfbasin[indx_basin]"
   ]
  },
  {
   "cell_type": "code",
   "execution_count": null,
   "metadata": {},
   "outputs": [],
   "source": [
    "# import numpy as np\n",
    "# import pandas as pd\n",
    "\n",
    "\n",
    "# #RSx = np.load('D:/XanthosDev/Figures/RunResult-02022022/ResStorage_' + str(basin_num)+ '.npy')\n",
    "# RSx = np.load('D:\\\\XanthosDev\\\\Mengqi\\\\SimReservoirs_229.npy')\n",
    "# RS =RSx[indx_basin,:]\n",
    "# pd.DataFrame(RS)\n",
    "\n"
   ]
  },
  {
   "cell_type": "code",
   "execution_count": null,
   "metadata": {},
   "outputs": [],
   "source": [
    "# import matplotlib.pyplot as plt\n",
    "# for ii in range(RS.shape[0]):\n",
    "#     #plt.plot(np.squeeze(RSSHP[ii,:]/1e9))\n",
    "#     plt.plot(np.squeeze(RS[ii,:]/1e9))\n",
    "    \n",
    "#     plt.title(capacity_dfbasin[indx_basin[ii]]*1e-3)\n",
    "#     plt.show()"
   ]
  }
 ],
 "metadata": {
  "kernelspec": {
   "display_name": "Python 3.9.5 ('base')",
   "language": "python",
   "name": "python3"
  },
  "language_info": {
   "codemirror_mode": {
    "name": "ipython",
    "version": 3
   },
   "file_extension": ".py",
   "mimetype": "text/x-python",
   "name": "python",
   "nbconvert_exporter": "python",
   "pygments_lexer": "ipython3",
   "version": "3.9.5"
  },
  "orig_nbformat": 4,
  "vscode": {
   "interpreter": {
    "hash": "4442a059423b1d8cb2d566f1d7a9e596fd1852f4b9b9e9d6f69b72f942b31330"
   }
  }
 },
 "nbformat": 4,
 "nbformat_minor": 2
}
