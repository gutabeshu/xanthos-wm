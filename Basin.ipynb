{
 "cells": [
  {
   "cell_type": "code",
   "execution_count": 1,
   "metadata": {},
   "outputs": [
    {
     "name": "stderr",
     "output_type": "stream",
     "text": [
      "INFO: ini_reader.log_info(): ProjectName : pm_abcd_mrtm_watch_1971_2001\n"
     ]
    },
    {
     "name": "stdout",
     "output_type": "stream",
     "text": [
      "INFO: ProjectName : pm_abcd_mrtm_watch_1971_2001\n"
     ]
    },
    {
     "name": "stderr",
     "output_type": "stream",
     "text": [
      "INFO: ini_reader.log_info(): InputFolder : D:\\XanthosDev\\example\\input\n"
     ]
    },
    {
     "name": "stdout",
     "output_type": "stream",
     "text": [
      "INFO: InputFolder : D:\\XanthosDev\\example\\input\n"
     ]
    },
    {
     "name": "stderr",
     "output_type": "stream",
     "text": [
      "INFO: ini_reader.log_info(): OutputFolder: D:\\XanthosDev\\example\\output\\pm_abcd_mrtm_watch_1971_2001\n"
     ]
    },
    {
     "name": "stdout",
     "output_type": "stream",
     "text": [
      "INFO: OutputFolder: D:\\XanthosDev\\example\\output\\pm_abcd_mrtm_watch_1971_2001\n"
     ]
    },
    {
     "name": "stderr",
     "output_type": "stream",
     "text": [
      "INFO: ini_reader.log_info(): StartYear - End Year: 1971-2001\n"
     ]
    },
    {
     "name": "stdout",
     "output_type": "stream",
     "text": [
      "INFO: StartYear - End Year: 1971-2001\n"
     ]
    },
    {
     "name": "stderr",
     "output_type": "stream",
     "text": [
      "INFO: ini_reader.log_info(): Number of Months    : 372\n"
     ]
    },
    {
     "name": "stdout",
     "output_type": "stream",
     "text": [
      "INFO: Number of Months    : 372\n"
     ]
    },
    {
     "name": "stderr",
     "output_type": "stream",
     "text": [
      "INFO: ini_reader.log_info(): Running: Historic Mode\n"
     ]
    },
    {
     "name": "stdout",
     "output_type": "stream",
     "text": [
      "INFO: Running: Historic Mode\n"
     ]
    },
    {
     "name": "stderr",
     "output_type": "stream",
     "text": [
      "WARNING: data_utils.load_to_array(): NaNs found in input file pr_gpcc_watch_monthly_mmpermth_1971_2001\n"
     ]
    },
    {
     "name": "stdout",
     "output_type": "stream",
     "text": [
      "WARNING: NaNs found in input file pr_gpcc_watch_monthly_mmpermth_1971_2001\n"
     ]
    },
    {
     "name": "stderr",
     "output_type": "stream",
     "text": [
      "WARNING: data_utils.load_to_array(): NaNs found in input file tasmin_watch_monthly_degc_1971_2001\n"
     ]
    },
    {
     "name": "stdout",
     "output_type": "stream",
     "text": [
      "WARNING: NaNs found in input file tasmin_watch_monthly_degc_1971_2001\n"
     ]
    },
    {
     "name": "stderr",
     "output_type": "stream",
     "text": [
      "DEBUG: session.<module>(): Could not import boto3, continuing with reduced functionality.\n"
     ]
    },
    {
     "name": "stdout",
     "output_type": "stream",
     "text": [
      "DEBUG: Could not import boto3, continuing with reduced functionality.\n"
     ]
    },
    {
     "name": "stderr",
     "output_type": "stream",
     "text": [
      "INFO: components.calibrate(): ---Processing PET...\n"
     ]
    },
    {
     "name": "stdout",
     "output_type": "stream",
     "text": [
      "INFO: ---Processing PET...\n"
     ]
    },
    {
     "name": "stderr",
     "output_type": "stream",
     "text": [
      "INFO: components.calibrate(): ---PET processed in 0.05386066436767578 seconds---\n"
     ]
    },
    {
     "name": "stdout",
     "output_type": "stream",
     "text": [
      "INFO: ---PET processed in 0.05386066436767578 seconds---\n"
     ]
    },
    {
     "name": "stderr",
     "output_type": "stream",
     "text": [
      "INFO: components.calibrate(): ---Loading calibration data:\n"
     ]
    },
    {
     "name": "stdout",
     "output_type": "stream",
     "text": [
      "INFO: ---Loading calibration data:\n"
     ]
    },
    {
     "name": "stderr",
     "output_type": "stream",
     "text": [
      "INFO: components.calibrate(): ---Running calibration:\n"
     ]
    },
    {
     "name": "stdout",
     "output_type": "stream",
     "text": [
      "INFO: ---Running calibration:\n"
     ]
    },
    {
     "name": "stderr",
     "output_type": "stream",
     "text": [
      "WARNING: data_utils.load_to_array(): NaNs found in input file pr_gpcc_watch_monthly_mmpermth_1971_2001\n"
     ]
    },
    {
     "name": "stdout",
     "output_type": "stream",
     "text": [
      "\tCalibrating Basin:  54\n",
      "WARNING: NaNs found in input file pr_gpcc_watch_monthly_mmpermth_1971_2001\n"
     ]
    },
    {
     "name": "stderr",
     "output_type": "stream",
     "text": [
      "WARNING: data_utils.load_to_array(): NaNs found in input file tasmin_watch_monthly_degc_1971_2001\n"
     ]
    },
    {
     "name": "stdout",
     "output_type": "stream",
     "text": [
      "WARNING: NaNs found in input file tasmin_watch_monthly_degc_1971_2001\n",
      "\tStarting The First Stage Parameter Selection : Runoff Parameters Selection\n",
      "Initializing the  Fast and Elitist Multiobjective Genetic Algorithm: NSGA-II  with  10000  repetitions\n",
      "The objective function will be minimized\n",
      "Initialize database...\n",
      "['csv', 'hdf5', 'ram', 'sql', 'custom', 'noData']\n",
      "* Database file 'D:/Xanthos-Repo/xanthos-wm/example/output/calibration\\basin_calibration_54NSGAII_Runoff_ObjF_annualKGE.csv' created.\n",
      "21 of 10000, minimal objective function=0.390099, time remaining: 00:21:10\n",
      "51 of 10000, minimal objective function=0.390099, time remaining: 00:17:45\n",
      "81 of 10000, minimal objective function=0.390099, time remaining: 00:16:39\n",
      "111 of 10000, minimal objective function=0.377332, time remaining: 00:16:15\n",
      "131 of 10000, minimal objective function=0.377332, time remaining: 00:16:22\n",
      "161 of 10000, minimal objective function=0.377332, time remaining: 00:16:03\n",
      "191 of 10000, minimal objective function=0.377332, time remaining: 00:15:51\n",
      "221 of 10000, minimal objective function=0.377332, time remaining: 00:15:40\n",
      "251 of 10000, minimal objective function=0.377332, time remaining: 00:15:32\n",
      "281 of 10000, minimal objective function=0.377332, time remaining: 00:15:25\n",
      "311 of 10000, minimal objective function=0.377332, time remaining: 00:15:15\n",
      "341 of 10000, minimal objective function=0.377332, time remaining: 00:15:06\n",
      "371 of 10000, minimal objective function=0.377332, time remaining: 00:14:59\n",
      "401 of 10000, minimal objective function=0.377332, time remaining: 00:14:52\n",
      "431 of 10000, minimal objective function=0.377332, time remaining: 00:14:46\n",
      "461 of 10000, minimal objective function=0.377332, time remaining: 00:14:39\n",
      "491 of 10000, minimal objective function=0.377332, time remaining: 00:14:34\n",
      "521 of 10000, minimal objective function=0.377332, time remaining: 00:14:29\n",
      "551 of 10000, minimal objective function=0.377332, time remaining: 00:14:24\n",
      "581 of 10000, minimal objective function=0.377332, time remaining: 00:14:20\n",
      "611 of 10000, minimal objective function=0.377332, time remaining: 00:14:15\n",
      "641 of 10000, minimal objective function=0.377332, time remaining: 00:14:11\n",
      "671 of 10000, minimal objective function=0.377332, time remaining: 00:14:07\n",
      "691 of 10000, minimal objective function=0.377332, time remaining: 00:14:08\n",
      "721 of 10000, minimal objective function=0.377332, time remaining: 00:14:05\n",
      "751 of 10000, minimal objective function=0.377332, time remaining: 00:14:03\n",
      "781 of 10000, minimal objective function=0.377332, time remaining: 00:14:00\n",
      "811 of 10000, minimal objective function=0.377332, time remaining: 00:13:57\n",
      "841 of 10000, minimal objective function=0.377332, time remaining: 00:13:53\n",
      "871 of 10000, minimal objective function=0.377332, time remaining: 00:13:50\n",
      "901 of 10000, minimal objective function=0.377332, time remaining: 00:13:48\n",
      "931 of 10000, minimal objective function=0.377332, time remaining: 00:13:45\n",
      "961 of 10000, minimal objective function=0.377332, time remaining: 00:13:43\n",
      "991 of 10000, minimal objective function=0.377332, time remaining: 00:13:40\n",
      "1011 of 10000, minimal objective function=0.377332, time remaining: 00:13:39\n",
      "1041 of 10000, minimal objective function=0.377332, time remaining: 00:13:37\n",
      "1063 of 10000, minimal objective function=0.377332, time remaining: 00:13:35\n",
      "1091 of 10000, minimal objective function=0.377332, time remaining: 00:13:34\n",
      "1121 of 10000, minimal objective function=0.377332, time remaining: 00:13:32\n",
      "1151 of 10000, minimal objective function=0.377332, time remaining: 00:13:28\n",
      "1181 of 10000, minimal objective function=0.377332, time remaining: 00:13:26\n",
      "1211 of 10000, minimal objective function=0.377332, time remaining: 00:13:23\n",
      "1241 of 10000, minimal objective function=0.377332, time remaining: 00:13:20\n",
      "1271 of 10000, minimal objective function=0.377332, time remaining: 00:13:17\n",
      "1301 of 10000, minimal objective function=0.377332, time remaining: 00:13:15\n",
      "1331 of 10000, minimal objective function=0.377332, time remaining: 00:13:12\n",
      "1361 of 10000, minimal objective function=0.377332, time remaining: 00:13:10\n",
      "1391 of 10000, minimal objective function=0.377332, time remaining: 00:13:07\n",
      "1421 of 10000, minimal objective function=0.377332, time remaining: 00:13:04\n"
     ]
    },
    {
     "ename": "KeyboardInterrupt",
     "evalue": "",
     "output_type": "error",
     "traceback": [
      "\u001b[1;31m---------------------------------------------------------------------------\u001b[0m",
      "\u001b[1;31mKeyboardInterrupt\u001b[0m                         Traceback (most recent call last)",
      "\u001b[1;32md:\\Xanthos-Repo\\xanthos-wm\\Basin.ipynb Cell 1\u001b[0m in \u001b[0;36m<cell line: 21>\u001b[1;34m()\u001b[0m\n\u001b[0;32m     <a href='vscode-notebook-cell:/d%3A/Xanthos-Repo/xanthos-wm/Basin.ipynb#W4sZmlsZQ%3D%3D?line=23'>24</a>\u001b[0m ini \u001b[39m=\u001b[39m os\u001b[39m.\u001b[39mpath\u001b[39m.\u001b[39mjoin(\u001b[39m'\u001b[39m\u001b[39mD:/Xanthos-Repo/xanthos-wm/pm_abcd_mrtm.ini\u001b[39m\u001b[39m'\u001b[39m)\n\u001b[0;32m     <a href='vscode-notebook-cell:/d%3A/Xanthos-Repo/xanthos-wm/Basin.ipynb#W4sZmlsZQ%3D%3D?line=25'>26</a>\u001b[0m \u001b[39m# run the model\u001b[39;00m\n\u001b[1;32m---> <a href='vscode-notebook-cell:/d%3A/Xanthos-Repo/xanthos-wm/Basin.ipynb#W4sZmlsZQ%3D%3D?line=26'>27</a>\u001b[0m xth \u001b[39m=\u001b[39m run(ini)\n\u001b[0;32m     <a href='vscode-notebook-cell:/d%3A/Xanthos-Repo/xanthos-wm/Basin.ipynb#W4sZmlsZQ%3D%3D?line=28'>29</a>\u001b[0m \u001b[39mdel\u001b[39;00m xth\n",
      "\u001b[1;32md:\\Xanthos-Repo\\xanthos-wm\\Basin.ipynb Cell 1\u001b[0m in \u001b[0;36mrun\u001b[1;34m(ini)\u001b[0m\n\u001b[0;32m     <a href='vscode-notebook-cell:/d%3A/Xanthos-Repo/xanthos-wm/Basin.ipynb#W4sZmlsZQ%3D%3D?line=12'>13</a>\u001b[0m xth \u001b[39m=\u001b[39m Xanthos(ini)\n\u001b[0;32m     <a href='vscode-notebook-cell:/d%3A/Xanthos-Repo/xanthos-wm/Basin.ipynb#W4sZmlsZQ%3D%3D?line=14'>15</a>\u001b[0m \u001b[39m# run intended configuration\u001b[39;00m\n\u001b[1;32m---> <a href='vscode-notebook-cell:/d%3A/Xanthos-Repo/xanthos-wm/Basin.ipynb#W4sZmlsZQ%3D%3D?line=15'>16</a>\u001b[0m xth\u001b[39m.\u001b[39;49mexecute()\n\u001b[0;32m     <a href='vscode-notebook-cell:/d%3A/Xanthos-Repo/xanthos-wm/Basin.ipynb#W4sZmlsZQ%3D%3D?line=17'>18</a>\u001b[0m \u001b[39mreturn\u001b[39;00m xth\n",
      "File \u001b[1;32mD:\\Xanthos-Repo\\xanthos-wm\\xanthos-wm\\xanthos\\model.py:94\u001b[0m, in \u001b[0;36mXanthos.execute\u001b[1;34m(self, args)\u001b[0m\n\u001b[0;32m     91\u001b[0m \u001b[39mself\u001b[39m\u001b[39m.\u001b[39mconfig\u001b[39m.\u001b[39mlog_info()\n\u001b[0;32m     93\u001b[0m config_runner \u001b[39m=\u001b[39m ConfigRunner(\u001b[39mself\u001b[39m\u001b[39m.\u001b[39mconfig)\n\u001b[1;32m---> 94\u001b[0m results \u001b[39m=\u001b[39m config_runner\u001b[39m.\u001b[39;49mrun()\n\u001b[0;32m     96\u001b[0m \u001b[39mself\u001b[39m\u001b[39m.\u001b[39mcleanup()\n\u001b[0;32m     98\u001b[0m \u001b[39mreturn\u001b[39;00m results\n",
      "File \u001b[1;32mD:\\Xanthos-Repo\\xanthos-wm\\xanthos-wm\\xanthos\\configurations.py:113\u001b[0m, in \u001b[0;36mConfigRunner.run\u001b[1;34m(self)\u001b[0m\n\u001b[0;32m    104\u001b[0m \u001b[39mif\u001b[39;00m \u001b[39mself\u001b[39m\u001b[39m.\u001b[39mspinup:\n\u001b[0;32m    105\u001b[0m     c\u001b[39m.\u001b[39msimulation(run_pet\u001b[39m=\u001b[39m\u001b[39mself\u001b[39m\u001b[39m.\u001b[39mrun_pet,\n\u001b[0;32m    106\u001b[0m                  run_runoff\u001b[39m=\u001b[39m\u001b[39mself\u001b[39m\u001b[39m.\u001b[39mrun_runoff,\n\u001b[0;32m    107\u001b[0m                  run_routing\u001b[39m=\u001b[39m\u001b[39mself\u001b[39m\u001b[39m.\u001b[39mrun_routing,\n\u001b[1;32m   (...)\u001b[0m\n\u001b[0;32m    110\u001b[0m                  routing_num_steps\u001b[39m=\u001b[39m\u001b[39mself\u001b[39m\u001b[39m.\u001b[39mconfig\u001b[39m.\u001b[39mrouting_spinup,\n\u001b[0;32m    111\u001b[0m                  notify\u001b[39m=\u001b[39m\u001b[39m'\u001b[39m\u001b[39mSpin Up\u001b[39m\u001b[39m'\u001b[39m)\n\u001b[1;32m--> 113\u001b[0m c\u001b[39m.\u001b[39;49msimulation(run_pet\u001b[39m=\u001b[39;49m\u001b[39mself\u001b[39;49m\u001b[39m.\u001b[39;49mrun_pet,\n\u001b[0;32m    114\u001b[0m              run_runoff\u001b[39m=\u001b[39;49m\u001b[39mself\u001b[39;49m\u001b[39m.\u001b[39;49mrun_runoff,\n\u001b[0;32m    115\u001b[0m              run_routing\u001b[39m=\u001b[39;49m\u001b[39mself\u001b[39;49m\u001b[39m.\u001b[39;49mrun_routing,\n\u001b[0;32m    116\u001b[0m              pet_num_steps\u001b[39m=\u001b[39;49m\u001b[39mself\u001b[39;49m\u001b[39m.\u001b[39;49mpet_timestep,\n\u001b[0;32m    117\u001b[0m              runoff_num_steps\u001b[39m=\u001b[39;49m\u001b[39mself\u001b[39;49m\u001b[39m.\u001b[39;49mrunoff_timestep,\n\u001b[0;32m    118\u001b[0m              routing_num_steps\u001b[39m=\u001b[39;49m\u001b[39mself\u001b[39;49m\u001b[39m.\u001b[39;49mrouting_timestep,\n\u001b[0;32m    119\u001b[0m              notify\u001b[39m=\u001b[39;49m\u001b[39m'\u001b[39;49m\u001b[39mSimulation\u001b[39;49m\u001b[39m'\u001b[39;49m)\n\u001b[0;32m    121\u001b[0m \u001b[39m# accessible water module\u001b[39;00m\n\u001b[0;32m    122\u001b[0m c\u001b[39m.\u001b[39maccessible_water()\n",
      "File \u001b[1;32mD:\\Xanthos-Repo\\xanthos-wm\\xanthos-wm\\xanthos\\components.py:510\u001b[0m, in \u001b[0;36mComponents.simulation\u001b[1;34m(self, run_pet, run_runoff, run_routing, pet_num_steps, runoff_num_steps, routing_num_steps, notify)\u001b[0m\n\u001b[0;32m    508\u001b[0m \u001b[39m# default to calibration if selected\u001b[39;00m\n\u001b[0;32m    509\u001b[0m \u001b[39mif\u001b[39;00m \u001b[39mself\u001b[39m\u001b[39m.\u001b[39ms\u001b[39m.\u001b[39mcalibrate:\n\u001b[1;32m--> 510\u001b[0m     \u001b[39mself\u001b[39;49m\u001b[39m.\u001b[39;49mcalibrate()\n\u001b[0;32m    511\u001b[0m     \u001b[39mreturn\u001b[39;00m\n\u001b[0;32m    513\u001b[0m logging\u001b[39m.\u001b[39minfo(\u001b[39m\"\u001b[39m\u001b[39m---\u001b[39m\u001b[39m{}\u001b[39;00m\u001b[39m in progress...\u001b[39m\u001b[39m\"\u001b[39m\u001b[39m.\u001b[39mformat(notify))\n",
      "File \u001b[1;32mD:\\Xanthos-Repo\\xanthos-wm\\xanthos-wm\\xanthos\\components.py:693\u001b[0m, in \u001b[0;36mComponents.calibrate\u001b[1;34m(self)\u001b[0m\n\u001b[0;32m    690\u001b[0m calibration_data \u001b[39m=\u001b[39m DataCalibrationManaged(config_obj\u001b[39m=\u001b[39m\u001b[39mself\u001b[39m\u001b[39m.\u001b[39ms)\n\u001b[0;32m    692\u001b[0m logging\u001b[39m.\u001b[39minfo(\u001b[39m\"\u001b[39m\u001b[39m---Running calibration:\u001b[39m\u001b[39m\"\u001b[39m)\n\u001b[1;32m--> 693\u001b[0m calib_managed\u001b[39m.\u001b[39;49mcalibrate_all(settings\u001b[39m=\u001b[39;49m\u001b[39mself\u001b[39;49m\u001b[39m.\u001b[39;49ms,\n\u001b[0;32m    694\u001b[0m                             calibration_data\u001b[39m=\u001b[39;49mcalibration_data,\n\u001b[0;32m    695\u001b[0m                             pet\u001b[39m=\u001b[39;49mpet_out)\n",
      "File \u001b[1;32mD:\\Xanthos-Repo\\xanthos-wm\\xanthos-wm\\xanthos\\calibrate\\calibrate_managed.py:739\u001b[0m, in \u001b[0;36mcalibrate_all\u001b[1;34m(settings, calibration_data, pet, router_fn)\u001b[0m\n\u001b[0;32m    735\u001b[0m \u001b[39m\"\"\"Run calibration for ABCD model for a basins.\"\"\"\u001b[39;00m\n\u001b[0;32m    737\u001b[0m \u001b[39mprint\u001b[39m(\u001b[39m\"\u001b[39m\u001b[39m\\t\u001b[39;00m\u001b[39mCalibrating Basin:  \u001b[39m\u001b[39m{}\u001b[39;00m\u001b[39m\"\u001b[39m\u001b[39m.\u001b[39mformat(settings\u001b[39m.\u001b[39mbasin_num))\n\u001b[1;32m--> 739\u001b[0m process_basin(settings, calibration_data, pet, router_function\u001b[39m=\u001b[39;49mrouter_fn)\n",
      "File \u001b[1;32mD:\\Xanthos-Repo\\xanthos-wm\\xanthos-wm\\xanthos\\calibrate\\calibrate_managed.py:714\u001b[0m, in \u001b[0;36mprocess_basin\u001b[1;34m(config_obj, calibration_data, pet, router_function)\u001b[0m\n\u001b[0;32m    711\u001b[0m \u001b[39m# load ABCD runoff module data\u001b[39;00m\n\u001b[0;32m    712\u001b[0m data_abcd \u001b[39m=\u001b[39m DataAbcd(config\u001b[39m=\u001b[39mconfig_obj)\n\u001b[1;32m--> 714\u001b[0m cal \u001b[39m=\u001b[39m CalibrateManaged(config_obj\u001b[39m=\u001b[39;49mconfig_obj,\n\u001b[0;32m    715\u001b[0m                        basin_num\u001b[39m=\u001b[39;49mconfig_obj\u001b[39m.\u001b[39;49mbasin_num,\n\u001b[0;32m    716\u001b[0m                        set_calibrate\u001b[39m=\u001b[39;49mconfig_obj\u001b[39m.\u001b[39;49mset_calibrate,\n\u001b[0;32m    717\u001b[0m                        obs_unit\u001b[39m=\u001b[39;49mconfig_obj\u001b[39m.\u001b[39;49mobs_unit,\n\u001b[0;32m    718\u001b[0m                        basin_ids\u001b[39m=\u001b[39;49mcalibration_data\u001b[39m.\u001b[39;49mbasin_ids,\n\u001b[0;32m    719\u001b[0m                        basin_areas\u001b[39m=\u001b[39;49mcalibration_data\u001b[39m.\u001b[39;49marea,\n\u001b[0;32m    720\u001b[0m                        precip\u001b[39m=\u001b[39;49mdata_abcd\u001b[39m.\u001b[39;49mprecip,\n\u001b[0;32m    721\u001b[0m                        pet\u001b[39m=\u001b[39;49mpet,\n\u001b[0;32m    722\u001b[0m                        obs\u001b[39m=\u001b[39;49mcalibration_data\u001b[39m.\u001b[39;49mcal_obs,\n\u001b[0;32m    723\u001b[0m                        tmin\u001b[39m=\u001b[39;49mdata_abcd\u001b[39m.\u001b[39;49mtmin,\n\u001b[0;32m    724\u001b[0m                        nmonths\u001b[39m=\u001b[39;49mconfig_obj\u001b[39m.\u001b[39;49mnmonths,\n\u001b[0;32m    725\u001b[0m                        runoff_spinup\u001b[39m=\u001b[39;49mconfig_obj\u001b[39m.\u001b[39;49mrunoff_spinup,\n\u001b[0;32m    726\u001b[0m                        router_func\u001b[39m=\u001b[39;49mrouter_function,\n\u001b[0;32m    727\u001b[0m                        out_dir\u001b[39m=\u001b[39;49mconfig_obj\u001b[39m.\u001b[39;49mcalib_out_dir,\n\u001b[0;32m    728\u001b[0m                        start_year\u001b[39m=\u001b[39;49mconfig_obj\u001b[39m.\u001b[39;49mStartYear,\n\u001b[0;32m    729\u001b[0m                        end_year\u001b[39m=\u001b[39;49mconfig_obj\u001b[39m.\u001b[39;49mEndYear\n\u001b[0;32m    730\u001b[0m                        )\n\u001b[0;32m    731\u001b[0m cal\u001b[39m.\u001b[39mcalibrate_basin()\n",
      "File \u001b[1;32mD:\\Xanthos-Repo\\xanthos-wm\\xanthos-wm\\xanthos\\calibrate\\calibrate_managed.py:340\u001b[0m, in \u001b[0;36mCalibrateManaged.__init__\u001b[1;34m(self, basin_num, basin_ids, basin_areas, precip, pet, obs, tmin, runoff_spinup, set_calibrate, obs_unit, out_dir, nmonths, router_func, config_obj, cal_observed, purpose_file, capacity_file, hp_release_file, water_consumption_file, instream_flow_natural_file, initial_channel_storage_natural_file, sm_file, mtif_natural_file, maxtif_natural_file, total_demand_cumecs_file, grdc_coord_index_file, start_year, end_year, repetitions, calib_algorithm_runoff, calib_algorithm_streamflow, flow_distance_file, flow_direction_file, stream_velocity_file, historical_mode, hist_channel_storage_file, hist_channel_storage_varname, routing_spinup)\u001b[0m\n\u001b[0;32m    338\u001b[0m \u001b[39mif\u001b[39;00m (\u001b[39mself\u001b[39m\u001b[39m.\u001b[39mset_calibrate \u001b[39m==\u001b[39m \u001b[39m-\u001b[39m\u001b[39m1\u001b[39m) \u001b[39m|\u001b[39m (\u001b[39mself\u001b[39m\u001b[39m.\u001b[39mset_calibrate \u001b[39m==\u001b[39m \u001b[39m1\u001b[39m):\t        \n\u001b[0;32m    339\u001b[0m     \u001b[39mprint\u001b[39m(\u001b[39m\"\u001b[39m\u001b[39m\\t\u001b[39;00m\u001b[39mStarting The First Stage Parameter Selection : Runoff Parameters Selection\u001b[39m\u001b[39m\"\u001b[39m)\n\u001b[1;32m--> 340\u001b[0m     \u001b[39mself\u001b[39m\u001b[39m.\u001b[39mro_params_selected \u001b[39m=\u001b[39m calibrate_runoff\u001b[39m.\u001b[39;49mcalibrate_basin(\n\u001b[0;32m    341\u001b[0m                                                     \u001b[39mself\u001b[39;49m\u001b[39m.\u001b[39;49mstart_year,\n\u001b[0;32m    342\u001b[0m                                                     \u001b[39mself\u001b[39;49m\u001b[39m.\u001b[39;49mend_year,\n\u001b[0;32m    343\u001b[0m                                                     \u001b[39mself\u001b[39;49m\u001b[39m.\u001b[39;49mpet,\n\u001b[0;32m    344\u001b[0m                                                     \u001b[39mself\u001b[39;49m\u001b[39m.\u001b[39;49mprecip,\n\u001b[0;32m    345\u001b[0m                                                     \u001b[39mself\u001b[39;49m\u001b[39m.\u001b[39;49mtmin,\n\u001b[0;32m    346\u001b[0m                                                     \u001b[39mself\u001b[39;49m\u001b[39m.\u001b[39;49mSM,\n\u001b[0;32m    347\u001b[0m                                                     \u001b[39mself\u001b[39;49m\u001b[39m.\u001b[39;49mbsn_obs_runoff,\n\u001b[0;32m    348\u001b[0m                                                     \u001b[39mself\u001b[39;49m\u001b[39m.\u001b[39;49mbasin_ids,\n\u001b[0;32m    349\u001b[0m                                                     \u001b[39mself\u001b[39;49m\u001b[39m.\u001b[39;49mbasin_idx,\n\u001b[0;32m    350\u001b[0m                                                     \u001b[39mself\u001b[39;49m\u001b[39m.\u001b[39;49mnmonths,\n\u001b[0;32m    351\u001b[0m                                                     \u001b[39mself\u001b[39;49m\u001b[39m.\u001b[39;49mrunoff_spinup,\n\u001b[0;32m    352\u001b[0m                                                     \u001b[39mself\u001b[39;49m\u001b[39m.\u001b[39;49mrepetitions,\n\u001b[0;32m    353\u001b[0m                                                     \u001b[39mself\u001b[39;49m\u001b[39m.\u001b[39;49mcalib_algorithm_runoff,\n\u001b[0;32m    354\u001b[0m                                                     \u001b[39mself\u001b[39;49m\u001b[39m.\u001b[39;49mModelPerformance,\n\u001b[0;32m    355\u001b[0m                                                     \u001b[39mself\u001b[39;49m\u001b[39m.\u001b[39;49mparams_ro_lhc,\n\u001b[0;32m    356\u001b[0m                                                     \u001b[39mself\u001b[39;49m\u001b[39m.\u001b[39;49mset_calibrate,\n\u001b[0;32m    357\u001b[0m                                                     \u001b[39mself\u001b[39;49m\u001b[39m.\u001b[39;49mconversion)\n\u001b[0;32m    361\u001b[0m     \u001b[39m# list of parameters values for second stage calibration\u001b[39;00m\n\u001b[0;32m    362\u001b[0m     \u001b[39mprint\u001b[39m(\u001b[39m\"\u001b[39m\u001b[39m\\t\u001b[39;00m\u001b[39mStarting The Second Stage Parameter Selection: Runoff + Routing Parameter Selection\u001b[39m\u001b[39m\"\u001b[39m)   \n",
      "File \u001b[1;32mD:\\Xanthos-Repo\\xanthos-wm\\xanthos-wm\\xanthos\\calibrate\\calibrate_abcdm_firststage.py:167\u001b[0m, in \u001b[0;36mcalibrate_basin\u001b[1;34m(start_year, end_year, pet, precip, tmin, SM, ts_bsn_obs, basin_ids, basin_idx, nmonths, runoff_spinup, repetitions, calib_algorithm, dbname_dir, params_runoff, calibration_type, conversion)\u001b[0m\n\u001b[0;32m    164\u001b[0m     sampler \u001b[39m=\u001b[39m spotpy\u001b[39m.\u001b[39malgorithms\u001b[39m.\u001b[39mNSGAII(runoff_model_spot_setup, dbname\u001b[39m=\u001b[39mdbname_dir \u001b[39m+\u001b[39m name_ext,\n\u001b[0;32m    165\u001b[0m                                 dbformat\u001b[39m=\u001b[39m\u001b[39m\"\u001b[39m\u001b[39mcsv\u001b[39m\u001b[39m\"\u001b[39m,dbappend\u001b[39m=\u001b[39m\u001b[39mFalse\u001b[39;00m,save_sim\u001b[39m=\u001b[39m\u001b[39mFalse\u001b[39;00m)\u001b[39m#,\u001b[39;00m\n\u001b[0;32m    166\u001b[0m                                 \u001b[39m#parallel='mpi' )                                                \u001b[39;00m\n\u001b[1;32m--> 167\u001b[0m     sampler\u001b[39m.\u001b[39;49msample(repetitions_nsgaii, n_obj\u001b[39m=\u001b[39;49m \u001b[39m1\u001b[39;49m, n_pop \u001b[39m=\u001b[39;49m n_pop)\n\u001b[0;32m    169\u001b[0m \u001b[39melif\u001b[39;00m calib_algorithm \u001b[39m==\u001b[39m \u001b[39m'\u001b[39m\u001b[39mmcmc\u001b[39m\u001b[39m'\u001b[39m:\t          \n\u001b[0;32m    170\u001b[0m     sampler \u001b[39m=\u001b[39m spotpy\u001b[39m.\u001b[39malgorithms\u001b[39m.\u001b[39mmcmc(runoff_model_spot_setup,dbname\u001b[39m=\u001b[39mdbname_dir \u001b[39m+\u001b[39m name_ext,\n\u001b[0;32m    171\u001b[0m                                 dbformat\u001b[39m=\u001b[39m\u001b[39m\"\u001b[39m\u001b[39mcsv\u001b[39m\u001b[39m\"\u001b[39m,dbappend\u001b[39m=\u001b[39m\u001b[39mFalse\u001b[39;00m,save_sim\u001b[39m=\u001b[39m\u001b[39mFalse\u001b[39;00m)\u001b[39m#,\u001b[39;00m\n",
      "File \u001b[1;32md:\\Miniconda3\\lib\\site-packages\\spotpy\\algorithms\\nsgaii.py:355\u001b[0m, in \u001b[0;36mNSGAII.sample\u001b[1;34m(self, generations, n_obj, n_pop, selection, crossover, mutation)\u001b[0m\n\u001b[0;32m    350\u001b[0m \u001b[39mif\u001b[39;00m \u001b[39mself\u001b[39m\u001b[39m.\u001b[39mskip_duplicates:\n\u001b[0;32m    351\u001b[0m \n\u001b[0;32m    352\u001b[0m     \u001b[39m# evaluate population\u001b[39;00m\n\u001b[0;32m    353\u001b[0m     param_generator \u001b[39m=\u001b[39m ((i, Qt[i, :]) \u001b[39mfor\u001b[39;00m i \u001b[39min\u001b[39;00m \u001b[39mrange\u001b[39m(\u001b[39mself\u001b[39m\u001b[39m.\u001b[39mn_pop))\n\u001b[1;32m--> 355\u001b[0m     ret \u001b[39m=\u001b[39m \u001b[39mlist\u001b[39;49m(\u001b[39mself\u001b[39;49m\u001b[39m.\u001b[39;49mrepeat(param_generator))\n\u001b[0;32m    357\u001b[0m     Of \u001b[39m=\u001b[39m []\n\u001b[0;32m    358\u001b[0m     \u001b[39mfor\u001b[39;00m p \u001b[39min\u001b[39;00m \u001b[39mrange\u001b[39m(\u001b[39mself\u001b[39m\u001b[39m.\u001b[39mn_pop):\n",
      "File \u001b[1;32md:\\Miniconda3\\lib\\site-packages\\spotpy\\parallel\\sequential.py:29\u001b[0m, in \u001b[0;36mForEach.__call__\u001b[1;34m(self, jobs)\u001b[0m\n\u001b[0;32m     27\u001b[0m \u001b[39mdef\u001b[39;00m \u001b[39m__call__\u001b[39m(\u001b[39mself\u001b[39m, jobs):\n\u001b[0;32m     28\u001b[0m     \u001b[39mfor\u001b[39;00m job \u001b[39min\u001b[39;00m jobs:\n\u001b[1;32m---> 29\u001b[0m         data \u001b[39m=\u001b[39m \u001b[39mself\u001b[39;49m\u001b[39m.\u001b[39;49mprocess(job)\n\u001b[0;32m     30\u001b[0m         \u001b[39myield\u001b[39;00m data\n",
      "File \u001b[1;32md:\\Miniconda3\\lib\\site-packages\\spotpy\\algorithms\\_algorithm.py:546\u001b[0m, in \u001b[0;36m_algorithm.simulate\u001b[1;34m(self, id_params_tuple)\u001b[0m\n\u001b[0;32m    543\u001b[0m         model_result \u001b[39m=\u001b[39m que\u001b[39m.\u001b[39mget()\n\u001b[0;32m    545\u001b[0m \u001b[39melse\u001b[39;00m:\n\u001b[1;32m--> 546\u001b[0m     model_result \u001b[39m=\u001b[39m \u001b[39mself\u001b[39;49m\u001b[39m.\u001b[39;49msetup\u001b[39m.\u001b[39;49msimulation(\u001b[39mself\u001b[39;49m\u001b[39m.\u001b[39;49mpartype(\u001b[39m*\u001b[39;49mall_params))\n\u001b[0;32m    548\u001b[0m \u001b[39mreturn\u001b[39;00m \u001b[39mid\u001b[39m, params, model_result\n",
      "File \u001b[1;32mD:\\Xanthos-Repo\\xanthos-wm\\xanthos-wm\\xanthos\\calibrate\\calibrate_abcdm_firststage.py:73\u001b[0m, in \u001b[0;36mCalibrate_runoff.simulation\u001b[1;34m(self, pars)\u001b[0m\n\u001b[0;32m     63\u001b[0m \u001b[39m\"\"\"ABCD model and mrtm routing model : this function provides simulated streamflow\"\"\"\u001b[39;00m\n\u001b[0;32m     64\u001b[0m he \u001b[39m=\u001b[39m AbcdManaged(pars\u001b[39m=\u001b[39mpars,\n\u001b[0;32m     65\u001b[0m                 soil_water_initial\u001b[39m=\u001b[39m\u001b[39mself\u001b[39m\u001b[39m.\u001b[39mSM[\u001b[39mself\u001b[39m\u001b[39m.\u001b[39mbasin_idx],\n\u001b[0;32m     66\u001b[0m                 pet\u001b[39m=\u001b[39m\u001b[39mself\u001b[39m\u001b[39m.\u001b[39mpet[\u001b[39mself\u001b[39m\u001b[39m.\u001b[39mbasin_idx,:],\n\u001b[1;32m   (...)\u001b[0m\n\u001b[0;32m     71\u001b[0m                 spinup_steps\u001b[39m=\u001b[39m\u001b[39mself\u001b[39m\u001b[39m.\u001b[39mrunoff_spinup,\n\u001b[0;32m     72\u001b[0m                 method\u001b[39m=\u001b[39m\u001b[39m\"\u001b[39m\u001b[39mdist\u001b[39m\u001b[39m\"\u001b[39m)\t\t\t\t\t \n\u001b[1;32m---> 73\u001b[0m he\u001b[39m.\u001b[39;49memulate()\n\u001b[0;32m     75\u001b[0m \u001b[39m#self.rsim =  np.nansum(he.rsim * self.conversion, 1)\u001b[39;00m\n\u001b[0;32m     76\u001b[0m \u001b[39mif\u001b[39;00m \u001b[39mself\u001b[39m\u001b[39m.\u001b[39mcalibration_type \u001b[39m==\u001b[39m \u001b[39m-\u001b[39m\u001b[39m1\u001b[39m:\n",
      "File \u001b[1;32mD:\\Xanthos-Repo\\xanthos-wm\\xanthos-wm\\xanthos\\runoff\\abcd_managed.py:314\u001b[0m, in \u001b[0;36mAbcdManaged.emulate\u001b[1;34m(self)\u001b[0m\n\u001b[0;32m    311\u001b[0m \u001b[39mself\u001b[39m\u001b[39m.\u001b[39mspinup()\n\u001b[0;32m    313\u001b[0m \u001b[39m# run simulation\u001b[39;00m\n\u001b[1;32m--> 314\u001b[0m \u001b[39mself\u001b[39;49m\u001b[39m.\u001b[39;49msimulate()\n",
      "File \u001b[1;32mD:\\Xanthos-Repo\\xanthos-wm\\xanthos-wm\\xanthos\\runoff\\abcd_managed.py:302\u001b[0m, in \u001b[0;36mAbcdManaged.simulate\u001b[1;34m(self)\u001b[0m\n\u001b[0;32m    300\u001b[0m \u001b[39m\"\"\"Run simulation using spin-up values.\"\"\"\u001b[39;00m\n\u001b[0;32m    301\u001b[0m \u001b[39m# initialize arrays for simulation from spin-up\u001b[39;00m\n\u001b[1;32m--> 302\u001b[0m \u001b[39mself\u001b[39;49m\u001b[39m.\u001b[39;49minit_arrays(\u001b[39mself\u001b[39;49m\u001b[39m.\u001b[39;49mprecip, \u001b[39mself\u001b[39;49m\u001b[39m.\u001b[39;49mtmin)\n\u001b[0;32m    304\u001b[0m \u001b[39m# process with first pass parameters\u001b[39;00m\n\u001b[0;32m    305\u001b[0m \u001b[39mfor\u001b[39;00m i \u001b[39min\u001b[39;00m \u001b[39mrange\u001b[39m(\u001b[39m0\u001b[39m, \u001b[39mself\u001b[39m\u001b[39m.\u001b[39msteps, \u001b[39m1\u001b[39m):\n",
      "File \u001b[1;32mD:\\Xanthos-Repo\\xanthos-wm\\xanthos-wm\\xanthos\\runoff\\abcd_managed.py:247\u001b[0m, in \u001b[0;36mAbcdManaged.init_arrays\u001b[1;34m(self, p, tmin)\u001b[0m\n\u001b[0;32m    244\u001b[0m \u001b[39mself\u001b[39m\u001b[39m.\u001b[39met_op \u001b[39m=\u001b[39m np\u001b[39m.\u001b[39mzeros_like(p)\n\u001b[0;32m    246\u001b[0m \u001b[39m# partition snow and rain\u001b[39;00m\n\u001b[1;32m--> 247\u001b[0m \u001b[39mself\u001b[39;49m\u001b[39m.\u001b[39;49mset_rain_and_snow(p, tmin)\n",
      "File \u001b[1;32mD:\\Xanthos-Repo\\xanthos-wm\\xanthos-wm\\xanthos\\runoff\\abcd_managed.py:170\u001b[0m, in \u001b[0;36mAbcdManaged.set_rain_and_snow\u001b[1;34m(self, p, tmin)\u001b[0m\n\u001b[0;32m    168\u001b[0m \u001b[39mif\u001b[39;00m allsnow\u001b[39m.\u001b[39many():\n\u001b[0;32m    169\u001b[0m     \u001b[39mself\u001b[39m\u001b[39m.\u001b[39mrain[allsnow] \u001b[39m=\u001b[39m \u001b[39m0\u001b[39m\n\u001b[1;32m--> 170\u001b[0m     \u001b[39mself\u001b[39m\u001b[39m.\u001b[39msnow[allsnow] \u001b[39m=\u001b[39m p[allsnow]\n",
      "\u001b[1;31mKeyboardInterrupt\u001b[0m: "
     ]
    }
   ],
   "source": [
    "import os\n",
    "\n",
    "import warnings\n",
    "warnings.filterwarnings(\"ignore\")\n",
    "\n",
    "os.chdir('D:/Xanthos-Repo/xanthos-wm/xanthos-wm')\n",
    "from xanthos import Xanthos\n",
    "\n",
    "\n",
    "def run(ini):\n",
    "\n",
    "    # instantiate model\n",
    "    xth = Xanthos(ini)\n",
    "\n",
    "    # run intended configuration\n",
    "    xth.execute()\n",
    "\n",
    "    return xth\n",
    "\n",
    "\n",
    "if __name__ == \"__main__\":\n",
    "\n",
    "    # full path to parameterized config file\n",
    "    ini = os.path.join('D:/Xanthos-Repo/xanthos-wm/pm_abcd_mrtm.ini')\n",
    "\n",
    "    # run the model\n",
    "    xth = run(ini)\n",
    "\n",
    "    del xth"
   ]
  },
  {
   "cell_type": "code",
   "execution_count": null,
   "metadata": {},
   "outputs": [],
   "source": [
    "# import numpy as np\n",
    "# import pandas as pd\n",
    "# import matplotlib.pyplot as plt\n",
    "# import xarray\n",
    "# import os\n",
    "\n",
    "# os.chdir('D:\\XanthosDev\\example\\input\\calibration')\n",
    "# reservoirs_halfDegree = xarray.open_dataset('Xanthos_reservoirs_halfDegree_global.nc')\n",
    "# ppose = reservoirs_halfDegree.Main_Use.values\n",
    "# Capacity = reservoirs_halfDegree.Capacity.values\n",
    "# Basin = reservoirs_halfDegree.Basin.values\n",
    "# # get grid indices for the current basin\n",
    "# dir_usgrid = 'D:/XanthosDev/Figures/Basins_Result/UScells/contributing_grids_all'\n",
    "# basin_num = 233\n",
    "# datad = (np.array(pd.read_csv(dir_usgrid + str(basin_num) + '.csv',header=None)) - 1).astype(np.int64)\n",
    "# basin_idx = np.squeeze(datad) \n",
    "\n",
    "# ppose_df = ppose[basin_idx]\n",
    "# Capacity_df = Capacity[basin_idx]\n",
    "\n",
    "# ppose_dfbasin = ppose_df[ppose_df>0]\n",
    "# capacity_dfbasin = Capacity_df[ppose_df>0]\n",
    "\n",
    "# indx_basin = np.where(ppose_dfbasin==1)[0]\n",
    "# #capacity_dfbasinHP = capacity_dfbasin[indx_basin]"
   ]
  },
  {
   "cell_type": "code",
   "execution_count": null,
   "metadata": {},
   "outputs": [],
   "source": [
    "# import numpy as np\n",
    "# import pandas as pd\n",
    "\n",
    "\n",
    "# #RSx = np.load('D:/XanthosDev/Figures/RunResult-02022022/ResStorage_' + str(basin_num)+ '.npy')\n",
    "# RSx = np.load('D:\\\\XanthosDev\\\\Mengqi\\\\SimReservoirs_229.npy')\n",
    "# RS =RSx[indx_basin,:]\n",
    "# pd.DataFrame(RS)\n",
    "\n"
   ]
  },
  {
   "cell_type": "code",
   "execution_count": null,
   "metadata": {},
   "outputs": [],
   "source": [
    "# import matplotlib.pyplot as plt\n",
    "# for ii in range(RS.shape[0]):\n",
    "#     #plt.plot(np.squeeze(RSSHP[ii,:]/1e9))\n",
    "#     plt.plot(np.squeeze(RS[ii,:]/1e9))\n",
    "    \n",
    "#     plt.title(capacity_dfbasin[indx_basin[ii]]*1e-3)\n",
    "#     plt.show()"
   ]
  }
 ],
 "metadata": {
  "kernelspec": {
   "display_name": "Python 3.9.5 ('base')",
   "language": "python",
   "name": "python3"
  },
  "language_info": {
   "codemirror_mode": {
    "name": "ipython",
    "version": 3
   },
   "file_extension": ".py",
   "mimetype": "text/x-python",
   "name": "python",
   "nbconvert_exporter": "python",
   "pygments_lexer": "ipython3",
   "version": "3.9.5"
  },
  "orig_nbformat": 4,
  "vscode": {
   "interpreter": {
    "hash": "4442a059423b1d8cb2d566f1d7a9e596fd1852f4b9b9e9d6f69b72f942b31330"
   }
  }
 },
 "nbformat": 4,
 "nbformat_minor": 2
}
