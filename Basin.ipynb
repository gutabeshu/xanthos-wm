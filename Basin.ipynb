{
 "cells": [
  {
   "cell_type": "code",
   "execution_count": 1,
   "metadata": {},
   "outputs": [
    {
     "name": "stderr",
     "output_type": "stream",
     "text": [
      "INFO: ini_reader.log_info(): ProjectName : pm_abcd_mrtm_watch_1971_2001\n"
     ]
    },
    {
     "name": "stdout",
     "output_type": "stream",
     "text": [
      "INFO: ProjectName : pm_abcd_mrtm_watch_1971_2001\n"
     ]
    },
    {
     "name": "stderr",
     "output_type": "stream",
     "text": [
      "INFO: ini_reader.log_info(): InputFolder : D:\\XanthosDev\\example\\input\n"
     ]
    },
    {
     "name": "stdout",
     "output_type": "stream",
     "text": [
      "INFO: InputFolder : D:\\XanthosDev\\example\\input\n"
     ]
    },
    {
     "name": "stderr",
     "output_type": "stream",
     "text": [
      "INFO: ini_reader.log_info(): OutputFolder: D:\\XanthosDev\\example\\output\\pm_abcd_mrtm_watch_1971_2001\n"
     ]
    },
    {
     "name": "stdout",
     "output_type": "stream",
     "text": [
      "INFO: OutputFolder: D:\\XanthosDev\\example\\output\\pm_abcd_mrtm_watch_1971_2001\n"
     ]
    },
    {
     "name": "stderr",
     "output_type": "stream",
     "text": [
      "INFO: ini_reader.log_info(): StartYear - End Year: 1971-2001\n"
     ]
    },
    {
     "name": "stdout",
     "output_type": "stream",
     "text": [
      "INFO: StartYear - End Year: 1971-2001\n"
     ]
    },
    {
     "name": "stderr",
     "output_type": "stream",
     "text": [
      "INFO: ini_reader.log_info(): Number of Months    : 372\n"
     ]
    },
    {
     "name": "stdout",
     "output_type": "stream",
     "text": [
      "INFO: Number of Months    : 372\n"
     ]
    },
    {
     "name": "stderr",
     "output_type": "stream",
     "text": [
      "INFO: ini_reader.log_info(): Running: Historic Mode\n"
     ]
    },
    {
     "name": "stdout",
     "output_type": "stream",
     "text": [
      "INFO: Running: Historic Mode\n"
     ]
    },
    {
     "name": "stderr",
     "output_type": "stream",
     "text": [
      "WARNING: data_utils.load_to_array(): NaNs found in input file pr_gpcc_watch_monthly_mmpermth_1971_2001\n"
     ]
    },
    {
     "name": "stdout",
     "output_type": "stream",
     "text": [
      "WARNING: NaNs found in input file pr_gpcc_watch_monthly_mmpermth_1971_2001\n"
     ]
    },
    {
     "name": "stderr",
     "output_type": "stream",
     "text": [
      "WARNING: data_utils.load_to_array(): NaNs found in input file tasmin_watch_monthly_degc_1971_2001\n"
     ]
    },
    {
     "name": "stdout",
     "output_type": "stream",
     "text": [
      "WARNING: NaNs found in input file tasmin_watch_monthly_degc_1971_2001\n"
     ]
    },
    {
     "name": "stderr",
     "output_type": "stream",
     "text": [
      "DEBUG: session.<module>(): Could not import boto3, continuing with reduced functionality.\n"
     ]
    },
    {
     "name": "stdout",
     "output_type": "stream",
     "text": [
      "DEBUG: Could not import boto3, continuing with reduced functionality.\n"
     ]
    },
    {
     "name": "stderr",
     "output_type": "stream",
     "text": [
      "INFO: components.calibrate(): ---Processing PET...\n"
     ]
    },
    {
     "name": "stdout",
     "output_type": "stream",
     "text": [
      "INFO: ---Processing PET...\n"
     ]
    },
    {
     "name": "stderr",
     "output_type": "stream",
     "text": [
      "INFO: components.calibrate(): ---PET processed in 0.05787944793701172 seconds---\n"
     ]
    },
    {
     "name": "stdout",
     "output_type": "stream",
     "text": [
      "INFO: ---PET processed in 0.05787944793701172 seconds---\n"
     ]
    },
    {
     "name": "stderr",
     "output_type": "stream",
     "text": [
      "INFO: components.calibrate(): ---Loading calibration data:\n"
     ]
    },
    {
     "name": "stdout",
     "output_type": "stream",
     "text": [
      "INFO: ---Loading calibration data:\n"
     ]
    },
    {
     "name": "stderr",
     "output_type": "stream",
     "text": [
      "INFO: components.calibrate(): ---Running calibration:\n"
     ]
    },
    {
     "name": "stdout",
     "output_type": "stream",
     "text": [
      "INFO: ---Running calibration:\n"
     ]
    },
    {
     "name": "stderr",
     "output_type": "stream",
     "text": [
      "WARNING: data_utils.load_to_array(): NaNs found in input file pr_gpcc_watch_monthly_mmpermth_1971_2001\n"
     ]
    },
    {
     "name": "stdout",
     "output_type": "stream",
     "text": [
      "\tCalibrating Basin:  168\n",
      "WARNING: NaNs found in input file pr_gpcc_watch_monthly_mmpermth_1971_2001\n"
     ]
    },
    {
     "name": "stderr",
     "output_type": "stream",
     "text": [
      "WARNING: data_utils.load_to_array(): NaNs found in input file tasmin_watch_monthly_degc_1971_2001\n"
     ]
    },
    {
     "name": "stdout",
     "output_type": "stream",
     "text": [
      "WARNING: NaNs found in input file tasmin_watch_monthly_degc_1971_2001\n",
      "\tStarting The First Stage Parameter Selection : Runoff Parameters Selection\n",
      "Initializing the  Fast and Elitist Multiobjective Genetic Algorithm: NSGA-II  with  100  repetitions\n",
      "The objective function will be minimized\n",
      "1 of 100, minimal objective function=0.781382, time remaining: 00:01:41\n",
      "Initialize database...\n",
      "['csv', 'hdf5', 'ram', 'sql', 'custom', 'noData']\n",
      "* Database file 'D:/XanthosDev/example/output/calibration\\basin_calibration_168NSGAII_Runoff.csv' created.\n",
      "11 of 100, minimal objective function=0.303571, time remaining: 00:00:31\n",
      "21 of 100, minimal objective function=0.303571, time remaining: 00:00:22\n",
      "31 of 100, minimal objective function=0.303571, time remaining: 00:00:18\n",
      "41 of 100, minimal objective function=0.303571, time remaining: 00:00:15\n",
      "51 of 100, minimal objective function=0.303571, time remaining: 00:00:12\n",
      "61 of 100, minimal objective function=0.303571, time remaining: 00:00:09\n"
     ]
    }
   ],
   "source": [
    "import os\n",
    "\n",
    "import warnings\n",
    "warnings.filterwarnings(\"ignore\")\n",
    "\n",
    "os.chdir('D:/Xanthos-Repo/xanthos-wm/xanthos-wm')\n",
    "from xanthos import Xanthos\n",
    "\n",
    "\n",
    "def run(ini):\n",
    "\n",
    "    # instantiate model\n",
    "    xth = Xanthos(ini)\n",
    "\n",
    "    # run intended configuration\n",
    "    xth.execute()\n",
    "\n",
    "    return xth\n",
    "\n",
    "\n",
    "if __name__ == \"__main__\":\n",
    "\n",
    "    # full path to parameterized config file\n",
    "    ini = os.path.join('D:/Xanthos-Repo/xanthos-wm/pm_abcd_mrtm.ini')\n",
    "\n",
    "    # run the model\n",
    "    xth = run(ini)\n",
    "\n",
    "    del xth"
   ]
  },
  {
   "cell_type": "code",
   "execution_count": null,
   "metadata": {},
   "outputs": [],
   "source": [
    "# import numpy as np\n",
    "# import pandas as pd\n",
    "# import matplotlib.pyplot as plt\n",
    "# import xarray\n",
    "# import os\n",
    "\n",
    "# os.chdir('D:\\XanthosDev\\example\\input\\calibration')\n",
    "# reservoirs_halfDegree = xarray.open_dataset('Xanthos_reservoirs_halfDegree_global.nc')\n",
    "# ppose = reservoirs_halfDegree.Main_Use.values\n",
    "# Capacity = reservoirs_halfDegree.Capacity.values\n",
    "# Basin = reservoirs_halfDegree.Basin.values\n",
    "# # get grid indices for the current basin\n",
    "# dir_usgrid = 'D:/XanthosDev/Figures/Basins_Result/UScells/contributing_grids_all'\n",
    "# basin_num = 233\n",
    "# datad = (np.array(pd.read_csv(dir_usgrid + str(basin_num) + '.csv',header=None)) - 1).astype(np.int64)\n",
    "# basin_idx = np.squeeze(datad) \n",
    "\n",
    "# ppose_df = ppose[basin_idx]\n",
    "# Capacity_df = Capacity[basin_idx]\n",
    "\n",
    "# ppose_dfbasin = ppose_df[ppose_df>0]\n",
    "# capacity_dfbasin = Capacity_df[ppose_df>0]\n",
    "\n",
    "# indx_basin = np.where(ppose_dfbasin==1)[0]\n",
    "# #capacity_dfbasinHP = capacity_dfbasin[indx_basin]"
   ]
  },
  {
   "cell_type": "code",
   "execution_count": null,
   "metadata": {},
   "outputs": [],
   "source": [
    "# import numpy as np\n",
    "# import pandas as pd\n",
    "\n",
    "\n",
    "# #RSx = np.load('D:/XanthosDev/Figures/RunResult-02022022/ResStorage_' + str(basin_num)+ '.npy')\n",
    "# RSx = np.load('D:\\\\XanthosDev\\\\Mengqi\\\\SimReservoirs_229.npy')\n",
    "# RS =RSx[indx_basin,:]\n",
    "# pd.DataFrame(RS)\n",
    "\n"
   ]
  },
  {
   "cell_type": "code",
   "execution_count": null,
   "metadata": {},
   "outputs": [],
   "source": [
    "# import matplotlib.pyplot as plt\n",
    "# for ii in range(RS.shape[0]):\n",
    "#     #plt.plot(np.squeeze(RSSHP[ii,:]/1e9))\n",
    "#     plt.plot(np.squeeze(RS[ii,:]/1e9))\n",
    "    \n",
    "#     plt.title(capacity_dfbasin[indx_basin[ii]]*1e-3)\n",
    "#     plt.show()"
   ]
  }
 ],
 "metadata": {
  "kernelspec": {
   "display_name": "Python 3.9.5 ('base')",
   "language": "python",
   "name": "python3"
  },
  "language_info": {
   "codemirror_mode": {
    "name": "ipython",
    "version": 3
   },
   "file_extension": ".py",
   "mimetype": "text/x-python",
   "name": "python",
   "nbconvert_exporter": "python",
   "pygments_lexer": "ipython3",
   "version": "3.9.5"
  },
  "orig_nbformat": 4,
  "vscode": {
   "interpreter": {
    "hash": "4442a059423b1d8cb2d566f1d7a9e596fd1852f4b9b9e9d6f69b72f942b31330"
   }
  }
 },
 "nbformat": 4,
 "nbformat_minor": 2
}
