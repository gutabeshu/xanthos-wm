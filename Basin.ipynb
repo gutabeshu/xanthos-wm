{
 "cells": [
  {
   "cell_type": "code",
   "execution_count": 1,
   "metadata": {},
   "outputs": [
    {
     "name": "stderr",
     "output_type": "stream",
     "text": [
      "INFO: ini_reader.log_info(): ProjectName : pm_abcd_mrtm_watch_1971_2001\n"
     ]
    },
    {
     "name": "stdout",
     "output_type": "stream",
     "text": [
      "INFO: ProjectName : pm_abcd_mrtm_watch_1971_2001\n"
     ]
    },
    {
     "name": "stderr",
     "output_type": "stream",
     "text": [
      "INFO: ini_reader.log_info(): InputFolder : D:\\XanthosDev\\example\\input\n"
     ]
    },
    {
     "name": "stdout",
     "output_type": "stream",
     "text": [
      "INFO: InputFolder : D:\\XanthosDev\\example\\input\n"
     ]
    },
    {
     "name": "stderr",
     "output_type": "stream",
     "text": [
      "INFO: ini_reader.log_info(): OutputFolder: D:\\XanthosDev\\example\\output\\pm_abcd_mrtm_watch_1971_2001\n"
     ]
    },
    {
     "name": "stdout",
     "output_type": "stream",
     "text": [
      "INFO: OutputFolder: D:\\XanthosDev\\example\\output\\pm_abcd_mrtm_watch_1971_2001\n"
     ]
    },
    {
     "name": "stderr",
     "output_type": "stream",
     "text": [
      "INFO: ini_reader.log_info(): StartYear - End Year: 1971-2001\n"
     ]
    },
    {
     "name": "stdout",
     "output_type": "stream",
     "text": [
      "INFO: StartYear - End Year: 1971-2001\n"
     ]
    },
    {
     "name": "stderr",
     "output_type": "stream",
     "text": [
      "INFO: ini_reader.log_info(): Number of Months    : 372\n"
     ]
    },
    {
     "name": "stdout",
     "output_type": "stream",
     "text": [
      "INFO: Number of Months    : 372\n"
     ]
    },
    {
     "name": "stderr",
     "output_type": "stream",
     "text": [
      "INFO: ini_reader.log_info(): Running: Historic Mode\n"
     ]
    },
    {
     "name": "stdout",
     "output_type": "stream",
     "text": [
      "INFO: Running: Historic Mode\n"
     ]
    },
    {
     "name": "stderr",
     "output_type": "stream",
     "text": [
      "WARNING: data_utils.load_to_array(): NaNs found in input file pr_gpcc_watch_monthly_mmpermth_1971_2001\n"
     ]
    },
    {
     "name": "stdout",
     "output_type": "stream",
     "text": [
      "WARNING: NaNs found in input file pr_gpcc_watch_monthly_mmpermth_1971_2001\n"
     ]
    },
    {
     "name": "stderr",
     "output_type": "stream",
     "text": [
      "WARNING: data_utils.load_to_array(): NaNs found in input file tasmin_watch_monthly_degc_1971_2001\n"
     ]
    },
    {
     "name": "stdout",
     "output_type": "stream",
     "text": [
      "WARNING: NaNs found in input file tasmin_watch_monthly_degc_1971_2001\n"
     ]
    },
    {
     "name": "stderr",
     "output_type": "stream",
     "text": [
      "DEBUG: session.<module>(): Could not import boto3, continuing with reduced functionality.\n"
     ]
    },
    {
     "name": "stdout",
     "output_type": "stream",
     "text": [
      "DEBUG: Could not import boto3, continuing with reduced functionality.\n"
     ]
    },
    {
     "name": "stderr",
     "output_type": "stream",
     "text": [
      "INFO: components.calibrate(): ---Processing PET...\n"
     ]
    },
    {
     "name": "stdout",
     "output_type": "stream",
     "text": [
      "INFO: ---Processing PET...\n"
     ]
    },
    {
     "name": "stderr",
     "output_type": "stream",
     "text": [
      "INFO: components.calibrate(): ---PET processed in 0.06282782554626465 seconds---\n"
     ]
    },
    {
     "name": "stdout",
     "output_type": "stream",
     "text": [
      "INFO: ---PET processed in 0.06282782554626465 seconds---\n"
     ]
    },
    {
     "name": "stderr",
     "output_type": "stream",
     "text": [
      "INFO: components.calibrate(): ---Loading calibration data:\n"
     ]
    },
    {
     "name": "stdout",
     "output_type": "stream",
     "text": [
      "INFO: ---Loading calibration data:\n"
     ]
    },
    {
     "name": "stderr",
     "output_type": "stream",
     "text": [
      "INFO: components.calibrate(): ---Running calibration:\n"
     ]
    },
    {
     "name": "stdout",
     "output_type": "stream",
     "text": [
      "INFO: ---Running calibration:\n"
     ]
    },
    {
     "name": "stderr",
     "output_type": "stream",
     "text": [
      "WARNING: data_utils.load_to_array(): NaNs found in input file pr_gpcc_watch_monthly_mmpermth_1971_2001\n"
     ]
    },
    {
     "name": "stdout",
     "output_type": "stream",
     "text": [
      "\tCalibrating Basin:  168\n",
      "WARNING: NaNs found in input file pr_gpcc_watch_monthly_mmpermth_1971_2001\n"
     ]
    },
    {
     "name": "stderr",
     "output_type": "stream",
     "text": [
      "WARNING: data_utils.load_to_array(): NaNs found in input file tasmin_watch_monthly_degc_1971_2001\n"
     ]
    },
    {
     "name": "stdout",
     "output_type": "stream",
     "text": [
      "WARNING: NaNs found in input file tasmin_watch_monthly_degc_1971_2001\n",
      "\tStarting The First Stage Parameter Selection : Runoff Parameters Selection\n",
      "Initializing the  Fast and Elitist Multiobjective Genetic Algorithm: NSGA-II  with  1000  repetitions\n",
      "The objective function will be minimized\n",
      "1 of 1000, minimal objective function=-0.0286484, time remaining: 00:18:00\n",
      "Initialize database...\n",
      "['csv', 'hdf5', 'ram', 'sql', 'custom', 'noData']\n",
      "* Database file 'D:/Xanthos-Repo/xanthos-wm/example/output/calibration\\basin_calibration_168_Runoff_ObjF_monthlyKGE.csv' created.\n",
      "11 of 1000, minimal objective function=-0.673477, time remaining: 00:06:14\n",
      "21 of 1000, minimal objective function=-0.673477, time remaining: 00:05:14\n",
      "31 of 1000, minimal objective function=-0.673477, time remaining: 00:04:35\n",
      "41 of 1000, minimal objective function=-0.673477, time remaining: 00:04:18\n",
      "51 of 1000, minimal objective function=-0.673477, time remaining: 00:04:03\n",
      "71 of 1000, minimal objective function=-0.673477, time remaining: 00:03:42\n",
      "81 of 1000, minimal objective function=-0.673477, time remaining: 00:03:36\n",
      "91 of 1000, minimal objective function=-0.673477, time remaining: 00:03:31\n",
      "101 of 1000, minimal objective function=-0.673477, time remaining: 00:03:28\n",
      "121 of 1000, minimal objective function=-0.723082, time remaining: 00:03:18\n",
      "141 of 1000, minimal objective function=-0.723082, time remaining: 00:03:10\n",
      "161 of 1000, minimal objective function=-0.723082, time remaining: 00:03:03\n",
      "181 of 1000, minimal objective function=-0.723082, time remaining: 00:02:57\n",
      "191 of 1000, minimal objective function=-0.723082, time remaining: 00:02:54\n",
      "201 of 1000, minimal objective function=-0.723082, time remaining: 00:02:52\n",
      "211 of 1000, minimal objective function=-0.723082, time remaining: 00:02:51\n",
      "221 of 1000, minimal objective function=-0.723082, time remaining: 00:02:48\n",
      "241 of 1000, minimal objective function=-0.723082, time remaining: 00:02:43\n",
      "251 of 1000, minimal objective function=-0.723082, time remaining: 00:02:45\n",
      "261 of 1000, minimal objective function=-0.723082, time remaining: 00:02:44\n",
      "271 of 1000, minimal objective function=-0.723082, time remaining: 00:02:42\n",
      "281 of 1000, minimal objective function=-0.723082, time remaining: 00:02:39\n",
      "291 of 1000, minimal objective function=-0.723082, time remaining: 00:02:37\n",
      "301 of 1000, minimal objective function=-0.723082, time remaining: 00:02:35\n",
      "311 of 1000, minimal objective function=-0.723082, time remaining: 00:02:32\n",
      "321 of 1000, minimal objective function=-0.723082, time remaining: 00:02:30\n",
      "331 of 1000, minimal objective function=-0.723082, time remaining: 00:02:27\n",
      "341 of 1000, minimal objective function=-0.723082, time remaining: 00:02:25\n",
      "351 of 1000, minimal objective function=-0.723082, time remaining: 00:02:22\n",
      "361 of 1000, minimal objective function=-0.723082, time remaining: 00:02:20\n",
      "371 of 1000, minimal objective function=-0.723082, time remaining: 00:02:18\n",
      "381 of 1000, minimal objective function=-0.723082, time remaining: 00:02:16\n",
      "391 of 1000, minimal objective function=-0.723082, time remaining: 00:02:13\n",
      "401 of 1000, minimal objective function=-0.723082, time remaining: 00:02:11\n",
      "411 of 1000, minimal objective function=-0.723082, time remaining: 00:02:09\n",
      "421 of 1000, minimal objective function=-0.723082, time remaining: 00:02:06\n",
      "431 of 1000, minimal objective function=-0.723082, time remaining: 00:02:04\n",
      "451 of 1000, minimal objective function=-0.723082, time remaining: 00:01:59\n",
      "461 of 1000, minimal objective function=-0.723082, time remaining: 00:01:57\n",
      "471 of 1000, minimal objective function=-0.723082, time remaining: 00:01:55\n",
      "481 of 1000, minimal objective function=-0.723082, time remaining: 00:01:53\n",
      "491 of 1000, minimal objective function=-0.723082, time remaining: 00:01:51\n",
      "501 of 1000, minimal objective function=-0.723082, time remaining: 00:01:49\n",
      "511 of 1000, minimal objective function=-0.723082, time remaining: 00:01:46\n",
      "521 of 1000, minimal objective function=-0.723082, time remaining: 00:01:44\n",
      "531 of 1000, minimal objective function=-0.723082, time remaining: 00:01:42\n",
      "541 of 1000, minimal objective function=-0.723082, time remaining: 00:01:40\n",
      "551 of 1000, minimal objective function=-0.723082, time remaining: 00:01:38\n",
      "561 of 1000, minimal objective function=-0.723082, time remaining: 00:01:36\n",
      "571 of 1000, minimal objective function=-0.723082, time remaining: 00:01:33\n",
      "581 of 1000, minimal objective function=-0.723082, time remaining: 00:01:31\n",
      "591 of 1000, minimal objective function=-0.723082, time remaining: 00:01:29\n",
      "601 of 1000, minimal objective function=-0.723082, time remaining: 00:01:27\n",
      "621 of 1000, minimal objective function=-0.723082, time remaining: 00:01:22\n",
      "631 of 1000, minimal objective function=-0.723082, time remaining: 00:01:20\n",
      "641 of 1000, minimal objective function=-0.723082, time remaining: 00:01:18\n",
      "661 of 1000, minimal objective function=-0.723082, time remaining: 00:01:13\n",
      "671 of 1000, minimal objective function=-0.723082, time remaining: 00:01:11\n",
      "681 of 1000, minimal objective function=-0.723082, time remaining: 00:01:09\n",
      "691 of 1000, minimal objective function=-0.723082, time remaining: 00:01:07\n",
      "701 of 1000, minimal objective function=-0.723082, time remaining: 00:01:04\n",
      "711 of 1000, minimal objective function=-0.723082, time remaining: 00:01:02\n",
      "721 of 1000, minimal objective function=-0.723082, time remaining: 00:01:00\n",
      "731 of 1000, minimal objective function=-0.723082, time remaining: 00:00:58\n",
      "741 of 1000, minimal objective function=-0.723082, time remaining: 00:00:56\n",
      "751 of 1000, minimal objective function=-0.723082, time remaining: 00:00:53\n",
      "761 of 1000, minimal objective function=-0.723082, time remaining: 00:00:51\n",
      "771 of 1000, minimal objective function=-0.723082, time remaining: 00:00:49\n",
      "781 of 1000, minimal objective function=-0.723082, time remaining: 00:00:47\n",
      "791 of 1000, minimal objective function=-0.723082, time remaining: 00:00:45\n",
      "801 of 1000, minimal objective function=-0.723082, time remaining: 00:00:43\n",
      "811 of 1000, minimal objective function=-0.723082, time remaining: 00:00:41\n",
      "821 of 1000, minimal objective function=-0.723082, time remaining: 00:00:38\n",
      "831 of 1000, minimal objective function=-0.723082, time remaining: 00:00:36\n",
      "841 of 1000, minimal objective function=-0.723082, time remaining: 00:00:34\n",
      "851 of 1000, minimal objective function=-0.723082, time remaining: 00:00:32\n",
      "861 of 1000, minimal objective function=-0.723082, time remaining: 00:00:30\n",
      "871 of 1000, minimal objective function=-0.723082, time remaining: 00:00:28\n",
      "881 of 1000, minimal objective function=-0.723082, time remaining: 00:00:25\n",
      "891 of 1000, minimal objective function=-0.723082, time remaining: 00:00:23\n",
      "901 of 1000, minimal objective function=-0.723082, time remaining: 00:00:21\n",
      "911 of 1000, minimal objective function=-0.723082, time remaining: 00:00:19\n",
      "931 of 1000, minimal objective function=-0.723082, time remaining: 00:00:15\n",
      "941 of 1000, minimal objective function=-0.723082, time remaining: 00:00:12\n",
      "951 of 1000, minimal objective function=-0.723082, time remaining: 00:00:10\n",
      "971 of 1000, minimal objective function=-0.723082, time remaining: 00:00:06\n",
      "981 of 1000, minimal objective function=-0.723082, time remaining: 00:00:04\n",
      "\n",
      "*** Final SPOTPY summary ***\n",
      "Total Duration: 210.27 seconds\n",
      "Total Repetitions: 990\n",
      "Minimal objective value: -0.723082\n",
      "Corresponding parameter setting:\n",
      "a: 0.962098\n",
      "b: 0.82283\n",
      "c: 0.253136\n",
      "d: 0.613722\n",
      "m: 0.654349\n",
      "******************************\n",
      "\n",
      "\tStarting The Second Stage Parameter Selection: Runoff + Routing Parameter Selection\n",
      "Initializing the  Shuffled Complex Evolution (SCE-UA) algorithm  with  4  repetitions\n",
      "The objective function will be minimized\n"
     ]
    },
    {
     "ename": "IndexError",
     "evalue": "Number of repetitions is higher than the number of available parameter sets",
     "output_type": "error",
     "traceback": [
      "\u001b[1;31m---------------------------------------------------------------------------\u001b[0m",
      "\u001b[1;31mStopIteration\u001b[0m                             Traceback (most recent call last)",
      "File \u001b[1;32md:\\Miniconda3\\lib\\site-packages\\spotpy\\parameter.py:340\u001b[0m, in \u001b[0;36mList.__call__\u001b[1;34m(self, size)\u001b[0m\n\u001b[0;32m    339\u001b[0m \u001b[39mtry\u001b[39;00m:\n\u001b[1;32m--> 340\u001b[0m     \u001b[39mreturn\u001b[39;00m \u001b[39mnext\u001b[39;49m(\u001b[39mself\u001b[39;49m\u001b[39m.\u001b[39;49miterator)\n\u001b[0;32m    341\u001b[0m \u001b[39mexcept\u001b[39;00m \u001b[39mStopIteration\u001b[39;00m:\n",
      "\u001b[1;31mStopIteration\u001b[0m: ",
      "\nDuring handling of the above exception, another exception occurred:\n",
      "\u001b[1;31mIndexError\u001b[0m                                Traceback (most recent call last)",
      "\u001b[1;32md:\\Xanthos-Repo\\xanthos-wm\\Basin.ipynb Cell 1\u001b[0m in \u001b[0;36m<cell line: 21>\u001b[1;34m()\u001b[0m\n\u001b[0;32m     <a href='vscode-notebook-cell:/d%3A/Xanthos-Repo/xanthos-wm/Basin.ipynb#W0sZmlsZQ%3D%3D?line=23'>24</a>\u001b[0m ini \u001b[39m=\u001b[39m os\u001b[39m.\u001b[39mpath\u001b[39m.\u001b[39mjoin(\u001b[39m'\u001b[39m\u001b[39mD:/Xanthos-Repo/xanthos-wm/pm_abcd_mrtm.ini\u001b[39m\u001b[39m'\u001b[39m)\n\u001b[0;32m     <a href='vscode-notebook-cell:/d%3A/Xanthos-Repo/xanthos-wm/Basin.ipynb#W0sZmlsZQ%3D%3D?line=25'>26</a>\u001b[0m \u001b[39m# run the model\u001b[39;00m\n\u001b[1;32m---> <a href='vscode-notebook-cell:/d%3A/Xanthos-Repo/xanthos-wm/Basin.ipynb#W0sZmlsZQ%3D%3D?line=26'>27</a>\u001b[0m xth \u001b[39m=\u001b[39m run(ini)\n\u001b[0;32m     <a href='vscode-notebook-cell:/d%3A/Xanthos-Repo/xanthos-wm/Basin.ipynb#W0sZmlsZQ%3D%3D?line=28'>29</a>\u001b[0m \u001b[39mdel\u001b[39;00m xth\n",
      "\u001b[1;32md:\\Xanthos-Repo\\xanthos-wm\\Basin.ipynb Cell 1\u001b[0m in \u001b[0;36mrun\u001b[1;34m(ini)\u001b[0m\n\u001b[0;32m     <a href='vscode-notebook-cell:/d%3A/Xanthos-Repo/xanthos-wm/Basin.ipynb#W0sZmlsZQ%3D%3D?line=12'>13</a>\u001b[0m xth \u001b[39m=\u001b[39m Xanthos(ini)\n\u001b[0;32m     <a href='vscode-notebook-cell:/d%3A/Xanthos-Repo/xanthos-wm/Basin.ipynb#W0sZmlsZQ%3D%3D?line=14'>15</a>\u001b[0m \u001b[39m# run intended configuration\u001b[39;00m\n\u001b[1;32m---> <a href='vscode-notebook-cell:/d%3A/Xanthos-Repo/xanthos-wm/Basin.ipynb#W0sZmlsZQ%3D%3D?line=15'>16</a>\u001b[0m xth\u001b[39m.\u001b[39;49mexecute()\n\u001b[0;32m     <a href='vscode-notebook-cell:/d%3A/Xanthos-Repo/xanthos-wm/Basin.ipynb#W0sZmlsZQ%3D%3D?line=17'>18</a>\u001b[0m \u001b[39mreturn\u001b[39;00m xth\n",
      "File \u001b[1;32mD:\\Xanthos-Repo\\xanthos-wm\\xanthos-wm\\xanthos\\model.py:94\u001b[0m, in \u001b[0;36mXanthos.execute\u001b[1;34m(self, args)\u001b[0m\n\u001b[0;32m     91\u001b[0m \u001b[39mself\u001b[39m\u001b[39m.\u001b[39mconfig\u001b[39m.\u001b[39mlog_info()\n\u001b[0;32m     93\u001b[0m config_runner \u001b[39m=\u001b[39m ConfigRunner(\u001b[39mself\u001b[39m\u001b[39m.\u001b[39mconfig)\n\u001b[1;32m---> 94\u001b[0m results \u001b[39m=\u001b[39m config_runner\u001b[39m.\u001b[39;49mrun()\n\u001b[0;32m     96\u001b[0m \u001b[39mself\u001b[39m\u001b[39m.\u001b[39mcleanup()\n\u001b[0;32m     98\u001b[0m \u001b[39mreturn\u001b[39;00m results\n",
      "File \u001b[1;32mD:\\Xanthos-Repo\\xanthos-wm\\xanthos-wm\\xanthos\\configurations.py:113\u001b[0m, in \u001b[0;36mConfigRunner.run\u001b[1;34m(self)\u001b[0m\n\u001b[0;32m    104\u001b[0m \u001b[39mif\u001b[39;00m \u001b[39mself\u001b[39m\u001b[39m.\u001b[39mspinup:\n\u001b[0;32m    105\u001b[0m     c\u001b[39m.\u001b[39msimulation(run_pet\u001b[39m=\u001b[39m\u001b[39mself\u001b[39m\u001b[39m.\u001b[39mrun_pet,\n\u001b[0;32m    106\u001b[0m                  run_runoff\u001b[39m=\u001b[39m\u001b[39mself\u001b[39m\u001b[39m.\u001b[39mrun_runoff,\n\u001b[0;32m    107\u001b[0m                  run_routing\u001b[39m=\u001b[39m\u001b[39mself\u001b[39m\u001b[39m.\u001b[39mrun_routing,\n\u001b[1;32m   (...)\u001b[0m\n\u001b[0;32m    110\u001b[0m                  routing_num_steps\u001b[39m=\u001b[39m\u001b[39mself\u001b[39m\u001b[39m.\u001b[39mconfig\u001b[39m.\u001b[39mrouting_spinup,\n\u001b[0;32m    111\u001b[0m                  notify\u001b[39m=\u001b[39m\u001b[39m'\u001b[39m\u001b[39mSpin Up\u001b[39m\u001b[39m'\u001b[39m)\n\u001b[1;32m--> 113\u001b[0m c\u001b[39m.\u001b[39;49msimulation(run_pet\u001b[39m=\u001b[39;49m\u001b[39mself\u001b[39;49m\u001b[39m.\u001b[39;49mrun_pet,\n\u001b[0;32m    114\u001b[0m              run_runoff\u001b[39m=\u001b[39;49m\u001b[39mself\u001b[39;49m\u001b[39m.\u001b[39;49mrun_runoff,\n\u001b[0;32m    115\u001b[0m              run_routing\u001b[39m=\u001b[39;49m\u001b[39mself\u001b[39;49m\u001b[39m.\u001b[39;49mrun_routing,\n\u001b[0;32m    116\u001b[0m              pet_num_steps\u001b[39m=\u001b[39;49m\u001b[39mself\u001b[39;49m\u001b[39m.\u001b[39;49mpet_timestep,\n\u001b[0;32m    117\u001b[0m              runoff_num_steps\u001b[39m=\u001b[39;49m\u001b[39mself\u001b[39;49m\u001b[39m.\u001b[39;49mrunoff_timestep,\n\u001b[0;32m    118\u001b[0m              routing_num_steps\u001b[39m=\u001b[39;49m\u001b[39mself\u001b[39;49m\u001b[39m.\u001b[39;49mrouting_timestep,\n\u001b[0;32m    119\u001b[0m              notify\u001b[39m=\u001b[39;49m\u001b[39m'\u001b[39;49m\u001b[39mSimulation\u001b[39;49m\u001b[39m'\u001b[39;49m)\n\u001b[0;32m    121\u001b[0m \u001b[39m# accessible water module\u001b[39;00m\n\u001b[0;32m    122\u001b[0m c\u001b[39m.\u001b[39maccessible_water()\n",
      "File \u001b[1;32mD:\\Xanthos-Repo\\xanthos-wm\\xanthos-wm\\xanthos\\components.py:509\u001b[0m, in \u001b[0;36mComponents.simulation\u001b[1;34m(self, run_pet, run_runoff, run_routing, pet_num_steps, runoff_num_steps, routing_num_steps, notify)\u001b[0m\n\u001b[0;32m    507\u001b[0m \u001b[39m# default to calibration if selected\u001b[39;00m\n\u001b[0;32m    508\u001b[0m \u001b[39mif\u001b[39;00m \u001b[39mself\u001b[39m\u001b[39m.\u001b[39ms\u001b[39m.\u001b[39mcalibrate:\n\u001b[1;32m--> 509\u001b[0m     \u001b[39mself\u001b[39;49m\u001b[39m.\u001b[39;49mcalibrate()\n\u001b[0;32m    510\u001b[0m     \u001b[39mreturn\u001b[39;00m\n\u001b[0;32m    512\u001b[0m logging\u001b[39m.\u001b[39minfo(\u001b[39m\"\u001b[39m\u001b[39m---\u001b[39m\u001b[39m{}\u001b[39;00m\u001b[39m in progress...\u001b[39m\u001b[39m\"\u001b[39m\u001b[39m.\u001b[39mformat(notify))\n",
      "File \u001b[1;32mD:\\Xanthos-Repo\\xanthos-wm\\xanthos-wm\\xanthos\\components.py:692\u001b[0m, in \u001b[0;36mComponents.calibrate\u001b[1;34m(self)\u001b[0m\n\u001b[0;32m    689\u001b[0m calibration_data \u001b[39m=\u001b[39m DataCalibrationManaged(config_obj\u001b[39m=\u001b[39m\u001b[39mself\u001b[39m\u001b[39m.\u001b[39ms)\n\u001b[0;32m    691\u001b[0m logging\u001b[39m.\u001b[39minfo(\u001b[39m\"\u001b[39m\u001b[39m---Running calibration:\u001b[39m\u001b[39m\"\u001b[39m)\n\u001b[1;32m--> 692\u001b[0m calib_managed\u001b[39m.\u001b[39;49mcalibrate_all(settings\u001b[39m=\u001b[39;49m\u001b[39mself\u001b[39;49m\u001b[39m.\u001b[39;49ms,\n\u001b[0;32m    693\u001b[0m                             calibration_data\u001b[39m=\u001b[39;49mcalibration_data,\n\u001b[0;32m    694\u001b[0m                             pet\u001b[39m=\u001b[39;49mpet_out)\n",
      "File \u001b[1;32mD:\\Xanthos-Repo\\xanthos-wm\\xanthos-wm\\xanthos\\calibrate\\calibrate_managed.py:714\u001b[0m, in \u001b[0;36mcalibrate_all\u001b[1;34m(settings, calibration_data, pet, router_fn)\u001b[0m\n\u001b[0;32m    710\u001b[0m \u001b[39m\"\"\"Run calibration for ABCD model for a basins.\"\"\"\u001b[39;00m\n\u001b[0;32m    712\u001b[0m \u001b[39mprint\u001b[39m(\u001b[39m\"\u001b[39m\u001b[39m\\t\u001b[39;00m\u001b[39mCalibrating Basin:  \u001b[39m\u001b[39m{}\u001b[39;00m\u001b[39m\"\u001b[39m\u001b[39m.\u001b[39mformat(settings\u001b[39m.\u001b[39mbasin_num))\n\u001b[1;32m--> 714\u001b[0m process_basin(settings, calibration_data, pet, router_function\u001b[39m=\u001b[39;49mrouter_fn)\n",
      "File \u001b[1;32mD:\\Xanthos-Repo\\xanthos-wm\\xanthos-wm\\xanthos\\calibrate\\calibrate_managed.py:706\u001b[0m, in \u001b[0;36mprocess_basin\u001b[1;34m(config_obj, calibration_data, pet, router_function)\u001b[0m\n\u001b[0;32m    687\u001b[0m data_abcd \u001b[39m=\u001b[39m DataAbcd(config\u001b[39m=\u001b[39mconfig_obj)\n\u001b[0;32m    689\u001b[0m cal \u001b[39m=\u001b[39m CalibrateManaged(config_obj\u001b[39m=\u001b[39mconfig_obj,\n\u001b[0;32m    690\u001b[0m                        basin_num\u001b[39m=\u001b[39mconfig_obj\u001b[39m.\u001b[39mbasin_num,\n\u001b[0;32m    691\u001b[0m                        set_calibrate\u001b[39m=\u001b[39mconfig_obj\u001b[39m.\u001b[39mset_calibrate,\n\u001b[1;32m   (...)\u001b[0m\n\u001b[0;32m    704\u001b[0m                        end_year\u001b[39m=\u001b[39mconfig_obj\u001b[39m.\u001b[39mEndYear\n\u001b[0;32m    705\u001b[0m                        )\n\u001b[1;32m--> 706\u001b[0m cal\u001b[39m.\u001b[39;49mcalibrate_basin()\n",
      "File \u001b[1;32mD:\\Xanthos-Repo\\xanthos-wm\\xanthos-wm\\xanthos\\calibrate\\calibrate_managed.py:598\u001b[0m, in \u001b[0;36mCalibrateManaged.calibrate_basin\u001b[1;34m(self)\u001b[0m\n\u001b[0;32m    595\u001b[0m     sampler \u001b[39m=\u001b[39m spotpy\u001b[39m.\u001b[39malgorithms\u001b[39m.\u001b[39msceua(\u001b[39mself\u001b[39m,dbname\u001b[39m=\u001b[39m\u001b[39mself\u001b[39m\u001b[39m.\u001b[39mModelPerformance \u001b[39m+\u001b[39m \u001b[39mself\u001b[39m\u001b[39m.\u001b[39mcalib_algorithm_streamflow \u001b[39m+\u001b[39m name_ext_flow ,\n\u001b[0;32m    596\u001b[0m                                 dbformat\u001b[39m=\u001b[39m\u001b[39m\"\u001b[39m\u001b[39mcsv\u001b[39m\u001b[39m\"\u001b[39m,dbappend\u001b[39m=\u001b[39m\u001b[39mFalse\u001b[39;00m,save_sim\u001b[39m=\u001b[39m\u001b[39mFalse\u001b[39;00m)\u001b[39m#,\u001b[39;00m\n\u001b[0;32m    597\u001b[0m                                 \u001b[39m#parallel='mpi' )                                          \u001b[39;00m\n\u001b[1;32m--> 598\u001b[0m     sampler\u001b[39m.\u001b[39;49msample(\u001b[39mself\u001b[39;49m\u001b[39m.\u001b[39;49mrepetitions)\u001b[39m#, ngs=10, kstop=100, peps=1e-7, pcento=1e-7)\u001b[39;00m\n\u001b[0;32m    600\u001b[0m \u001b[39melif\u001b[39;00m \u001b[39mself\u001b[39m\u001b[39m.\u001b[39mcalib_algorithm_streamflow \u001b[39m==\u001b[39m \u001b[39m'\u001b[39m\u001b[39mNSGAII\u001b[39m\u001b[39m'\u001b[39m:\t    \n\u001b[0;32m    601\u001b[0m     n_pop \u001b[39m=\u001b[39m \u001b[39m10\u001b[39m\n",
      "File \u001b[1;32md:\\Miniconda3\\lib\\site-packages\\spotpy\\algorithms\\sceua.py:204\u001b[0m, in \u001b[0;36msceua.sample\u001b[1;34m(self, repetitions, ngs, kstop, pcento, peps, max_loop_inc)\u001b[0m\n\u001b[0;32m    200\u001b[0m     gnrng \u001b[39m=\u001b[39m data_frombreak[\u001b[39m2\u001b[39m]\n\u001b[0;32m    202\u001b[0m \u001b[39melif\u001b[39;00m \u001b[39mself\u001b[39m\u001b[39m.\u001b[39mbreakpoint \u001b[39mis\u001b[39;00m \u001b[39mNone\u001b[39;00m \u001b[39mor\u001b[39;00m \u001b[39mself\u001b[39m\u001b[39m.\u001b[39mbreakpoint \u001b[39m==\u001b[39m \u001b[39m\"\u001b[39m\u001b[39mwrite\u001b[39m\u001b[39m\"\u001b[39m:\n\u001b[0;32m    203\u001b[0m     \u001b[39m# Create an initial population to fill array x(npt,self.self.nopt):\u001b[39;00m\n\u001b[1;32m--> 204\u001b[0m     x \u001b[39m=\u001b[39m \u001b[39mself\u001b[39;49m\u001b[39m.\u001b[39;49m_sampleinputmatrix(npt, \u001b[39mself\u001b[39;49m\u001b[39m.\u001b[39;49mnopt)\n\u001b[0;32m    205\u001b[0m     nloop \u001b[39m=\u001b[39m \u001b[39m0\u001b[39m\n\u001b[0;32m    206\u001b[0m     icall \u001b[39m=\u001b[39m \u001b[39m0\u001b[39m\n",
      "File \u001b[1;32md:\\Miniconda3\\lib\\site-packages\\spotpy\\algorithms\\sceua.py:526\u001b[0m, in \u001b[0;36msceua._sampleinputmatrix\u001b[1;34m(self, nrows, npars)\u001b[0m\n\u001b[0;32m    524\u001b[0m x \u001b[39m=\u001b[39m np\u001b[39m.\u001b[39mzeros((nrows, npars))\n\u001b[0;32m    525\u001b[0m \u001b[39mfor\u001b[39;00m i \u001b[39min\u001b[39;00m \u001b[39mrange\u001b[39m(nrows):\n\u001b[1;32m--> 526\u001b[0m     x[i, :] \u001b[39m=\u001b[39m \u001b[39mself\u001b[39;49m\u001b[39m.\u001b[39;49mparameter()[\u001b[39m\"\u001b[39m\u001b[39mrandom\u001b[39m\u001b[39m\"\u001b[39m]\n\u001b[0;32m    527\u001b[0m \u001b[39mreturn\u001b[39;00m x\n",
      "File \u001b[1;32md:\\Miniconda3\\lib\\site-packages\\spotpy\\algorithms\\_algorithm.py:350\u001b[0m, in \u001b[0;36m_algorithm.get_parameters\u001b[1;34m(self)\u001b[0m\n\u001b[0;32m    346\u001b[0m \u001b[39mdef\u001b[39;00m \u001b[39mget_parameters\u001b[39m(\u001b[39mself\u001b[39m):\n\u001b[0;32m    347\u001b[0m     \u001b[39m\"\"\"\u001b[39;00m\n\u001b[0;32m    348\u001b[0m \u001b[39m    Returns the parameter array from the setup\u001b[39;00m\n\u001b[0;32m    349\u001b[0m \u001b[39m    \"\"\"\u001b[39;00m\n\u001b[1;32m--> 350\u001b[0m     pars \u001b[39m=\u001b[39m parameter\u001b[39m.\u001b[39;49mget_parameters_array(\u001b[39mself\u001b[39;49m\u001b[39m.\u001b[39;49msetup)\n\u001b[0;32m    351\u001b[0m     \u001b[39mreturn\u001b[39;00m pars[\u001b[39mself\u001b[39m\u001b[39m.\u001b[39mnon_constant_positions]\n",
      "File \u001b[1;32md:\\Miniconda3\\lib\\site-packages\\spotpy\\parameter.py:777\u001b[0m, in \u001b[0;36mget_parameters_array\u001b[1;34m(setup, unaccepted_parameter_types)\u001b[0m\n\u001b[0;32m    770\u001b[0m param_arrays\u001b[39m.\u001b[39mappend(\n\u001b[0;32m    771\u001b[0m     \u001b[39m# generate creates the array as defined in the setup API\u001b[39;00m\n\u001b[0;32m    772\u001b[0m     generate(setup_parameters)\n\u001b[0;32m    773\u001b[0m )\n\u001b[0;32m    775\u001b[0m \u001b[39mif\u001b[39;00m \u001b[39mhasattr\u001b[39m(setup, \u001b[39m\"\u001b[39m\u001b[39mparameters\u001b[39m\u001b[39m\"\u001b[39m) \u001b[39mand\u001b[39;00m callable(setup\u001b[39m.\u001b[39mparameters):\n\u001b[0;32m    776\u001b[0m     \u001b[39m# parameters is a function, as defined in the setup API up to at least spotpy version 1.3.13\u001b[39;00m\n\u001b[1;32m--> 777\u001b[0m     param_arrays\u001b[39m.\u001b[39mappend(setup\u001b[39m.\u001b[39;49mparameters())\n\u001b[0;32m    779\u001b[0m \u001b[39m# Return the class and the object parameters together\u001b[39;00m\n\u001b[0;32m    780\u001b[0m res \u001b[39m=\u001b[39m np\u001b[39m.\u001b[39mconcatenate(param_arrays)\n",
      "File \u001b[1;32mD:\\Xanthos-Repo\\xanthos-wm\\xanthos-wm\\xanthos\\calibrate\\calibrate_managed.py:391\u001b[0m, in \u001b[0;36mCalibrateManaged.parameters\u001b[1;34m(self)\u001b[0m\n\u001b[0;32m    383\u001b[0m     \u001b[39m#automatic parameter selection following the optimization gradient\u001b[39;00m\n\u001b[0;32m    384\u001b[0m     \u001b[39m#params_order = [0,1,2,3,4]\u001b[39;00m\n\u001b[0;32m    385\u001b[0m     \u001b[39m#params = [spotpy.parameter.Uniform(self.l_bounds[p], \u001b[39;00m\n\u001b[0;32m    386\u001b[0m     \u001b[39m#                                    self.u_bounds[p])      \u001b[39;00m\n\u001b[0;32m    387\u001b[0m     \u001b[39m#                                   for p in params_order]       \u001b[39;00m\n\u001b[0;32m    388\u001b[0m \u001b[39melse\u001b[39;00m:       \n\u001b[0;32m    389\u001b[0m     params \u001b[39m=\u001b[39m \u001b[39mself\u001b[39m\u001b[39m.\u001b[39mparams_wm\n\u001b[1;32m--> 391\u001b[0m \u001b[39mreturn\u001b[39;00m spotpy\u001b[39m.\u001b[39;49mparameter\u001b[39m.\u001b[39;49mgenerate(params)\n",
      "File \u001b[1;32md:\\Miniconda3\\lib\\site-packages\\spotpy\\parameter.py:735\u001b[0m, in \u001b[0;36mgenerate\u001b[1;34m(parameters)\u001b[0m\n\u001b[0;32m    720\u001b[0m \u001b[39m\"\"\"\u001b[39;00m\n\u001b[0;32m    721\u001b[0m \u001b[39mThis function generates a parameter set from a list of parameter objects. The parameter set\u001b[39;00m\n\u001b[0;32m    722\u001b[0m \u001b[39mis given as a structured array in the format the parameters function of a setup expects\u001b[39;00m\n\u001b[0;32m    723\u001b[0m \u001b[39m:parameters: A sequence of parameter objects\u001b[39;00m\n\u001b[0;32m    724\u001b[0m \u001b[39m\"\"\"\u001b[39;00m\n\u001b[0;32m    725\u001b[0m dtype \u001b[39m=\u001b[39m [\n\u001b[0;32m    726\u001b[0m     (\u001b[39m\"\u001b[39m\u001b[39mrandom\u001b[39m\u001b[39m\"\u001b[39m, \u001b[39m\"\u001b[39m\u001b[39m<f8\u001b[39m\u001b[39m\"\u001b[39m),\n\u001b[0;32m    727\u001b[0m     (\u001b[39m\"\u001b[39m\u001b[39mname\u001b[39m\u001b[39m\"\u001b[39m, \u001b[39m\"\u001b[39m\u001b[39m|U100\u001b[39m\u001b[39m\"\u001b[39m),\n\u001b[1;32m   (...)\u001b[0m\n\u001b[0;32m    732\u001b[0m     (\u001b[39m\"\u001b[39m\u001b[39mas_int\u001b[39m\u001b[39m\"\u001b[39m, \u001b[39m\"\u001b[39m\u001b[39mbool\u001b[39m\u001b[39m\"\u001b[39m),\n\u001b[0;32m    733\u001b[0m ]\n\u001b[1;32m--> 735\u001b[0m \u001b[39mreturn\u001b[39;00m np\u001b[39m.\u001b[39;49mfromiter(\n\u001b[0;32m    736\u001b[0m     (param\u001b[39m.\u001b[39;49mastuple() \u001b[39mfor\u001b[39;49;00m param \u001b[39min\u001b[39;49;00m parameters), dtype\u001b[39m=\u001b[39;49mdtype, count\u001b[39m=\u001b[39;49m\u001b[39mlen\u001b[39;49m(parameters)\n\u001b[0;32m    737\u001b[0m )\n",
      "File \u001b[1;32md:\\Miniconda3\\lib\\site-packages\\spotpy\\parameter.py:736\u001b[0m, in \u001b[0;36m<genexpr>\u001b[1;34m(.0)\u001b[0m\n\u001b[0;32m    720\u001b[0m \u001b[39m\"\"\"\u001b[39;00m\n\u001b[0;32m    721\u001b[0m \u001b[39mThis function generates a parameter set from a list of parameter objects. The parameter set\u001b[39;00m\n\u001b[0;32m    722\u001b[0m \u001b[39mis given as a structured array in the format the parameters function of a setup expects\u001b[39;00m\n\u001b[0;32m    723\u001b[0m \u001b[39m:parameters: A sequence of parameter objects\u001b[39;00m\n\u001b[0;32m    724\u001b[0m \u001b[39m\"\"\"\u001b[39;00m\n\u001b[0;32m    725\u001b[0m dtype \u001b[39m=\u001b[39m [\n\u001b[0;32m    726\u001b[0m     (\u001b[39m\"\u001b[39m\u001b[39mrandom\u001b[39m\u001b[39m\"\u001b[39m, \u001b[39m\"\u001b[39m\u001b[39m<f8\u001b[39m\u001b[39m\"\u001b[39m),\n\u001b[0;32m    727\u001b[0m     (\u001b[39m\"\u001b[39m\u001b[39mname\u001b[39m\u001b[39m\"\u001b[39m, \u001b[39m\"\u001b[39m\u001b[39m|U100\u001b[39m\u001b[39m\"\u001b[39m),\n\u001b[1;32m   (...)\u001b[0m\n\u001b[0;32m    732\u001b[0m     (\u001b[39m\"\u001b[39m\u001b[39mas_int\u001b[39m\u001b[39m\"\u001b[39m, \u001b[39m\"\u001b[39m\u001b[39mbool\u001b[39m\u001b[39m\"\u001b[39m),\n\u001b[0;32m    733\u001b[0m ]\n\u001b[0;32m    735\u001b[0m \u001b[39mreturn\u001b[39;00m np\u001b[39m.\u001b[39mfromiter(\n\u001b[1;32m--> 736\u001b[0m     (param\u001b[39m.\u001b[39;49mastuple() \u001b[39mfor\u001b[39;00m param \u001b[39min\u001b[39;00m parameters), dtype\u001b[39m=\u001b[39mdtype, count\u001b[39m=\u001b[39m\u001b[39mlen\u001b[39m(parameters)\n\u001b[0;32m    737\u001b[0m )\n",
      "File \u001b[1;32md:\\Miniconda3\\lib\\site-packages\\spotpy\\parameter.py:346\u001b[0m, in \u001b[0;36mList.astuple\u001b[1;34m(self)\u001b[0m\n\u001b[0;32m    345\u001b[0m \u001b[39mdef\u001b[39;00m \u001b[39mastuple\u001b[39m(\u001b[39mself\u001b[39m):\n\u001b[1;32m--> 346\u001b[0m     \u001b[39mreturn\u001b[39;00m \u001b[39mself\u001b[39;49m(), \u001b[39mself\u001b[39m\u001b[39m.\u001b[39mname, \u001b[39m0\u001b[39m, \u001b[39m0\u001b[39m, \u001b[39m0\u001b[39m, \u001b[39m0\u001b[39m, \u001b[39mself\u001b[39m\u001b[39m.\u001b[39mas_int\n",
      "File \u001b[1;32md:\\Miniconda3\\lib\\site-packages\\spotpy\\parameter.py:343\u001b[0m, in \u001b[0;36mList.__call__\u001b[1;34m(self, size)\u001b[0m\n\u001b[0;32m    341\u001b[0m \u001b[39mexcept\u001b[39;00m \u001b[39mStopIteration\u001b[39;00m:\n\u001b[0;32m    342\u001b[0m     text \u001b[39m=\u001b[39m \u001b[39m\"\u001b[39m\u001b[39mNumber of repetitions is higher than the number of available parameter sets\u001b[39m\u001b[39m\"\u001b[39m\n\u001b[1;32m--> 343\u001b[0m     \u001b[39mraise\u001b[39;00m \u001b[39mIndexError\u001b[39;00m(text)\n",
      "\u001b[1;31mIndexError\u001b[0m: Number of repetitions is higher than the number of available parameter sets"
     ]
    }
   ],
   "source": [
    "import os\n",
    "\n",
    "import warnings\n",
    "warnings.filterwarnings(\"ignore\")\n",
    "\n",
    "os.chdir('D:/Xanthos-Repo/xanthos-wm/xanthos-wm')\n",
    "from xanthos import Xanthos\n",
    "\n",
    "\n",
    "def run(ini):\n",
    "\n",
    "    # instantiate model\n",
    "    xth = Xanthos(ini)\n",
    "\n",
    "    # run intended configuration\n",
    "    xth.execute()\n",
    "\n",
    "    return xth\n",
    "\n",
    "\n",
    "if __name__ == \"__main__\":\n",
    "\n",
    "    # full path to parameterized config file\n",
    "    ini = os.path.join('D:/Xanthos-Repo/xanthos-wm/pm_abcd_mrtm.ini')\n",
    "\n",
    "    # run the model\n",
    "    xth = run(ini)\n",
    "\n",
    "    del xth"
   ]
  },
  {
   "cell_type": "code",
   "execution_count": null,
   "metadata": {},
   "outputs": [],
   "source": [
    "# import numpy as np\n",
    "# import pandas as pd\n",
    "# import matplotlib.pyplot as plt\n",
    "# import xarray\n",
    "# import os\n",
    "\n",
    "# os.chdir('D:\\XanthosDev\\example\\input\\calibration')\n",
    "# reservoirs_halfDegree = xarray.open_dataset('Xanthos_reservoirs_halfDegree_global.nc')\n",
    "# ppose = reservoirs_halfDegree.Main_Use.values\n",
    "# Capacity = reservoirs_halfDegree.Capacity.values\n",
    "# Basin = reservoirs_halfDegree.Basin.values\n",
    "# # get grid indices for the current basin\n",
    "# dir_usgrid = 'D:/XanthosDev/Figures/Basins_Result/UScells/contributing_grids_all'\n",
    "# basin_num = 233\n",
    "# datad = (np.array(pd.read_csv(dir_usgrid + str(basin_num) + '.csv',header=None)) - 1).astype(np.int64)\n",
    "# basin_idx = np.squeeze(datad) \n",
    "\n",
    "# ppose_df = ppose[basin_idx]\n",
    "# Capacity_df = Capacity[basin_idx]\n",
    "\n",
    "# ppose_dfbasin = ppose_df[ppose_df>0]\n",
    "# capacity_dfbasin = Capacity_df[ppose_df>0]\n",
    "\n",
    "# indx_basin = np.where(ppose_dfbasin==1)[0]\n",
    "# #capacity_dfbasinHP = capacity_dfbasin[indx_basin]"
   ]
  },
  {
   "cell_type": "code",
   "execution_count": null,
   "metadata": {},
   "outputs": [],
   "source": [
    "# import numpy as np\n",
    "# import pandas as pd\n",
    "\n",
    "\n",
    "# #RSx = np.load('D:/XanthosDev/Figures/RunResult-02022022/ResStorage_' + str(basin_num)+ '.npy')\n",
    "# RSx = np.load('D:\\\\XanthosDev\\\\Mengqi\\\\SimReservoirs_229.npy')\n",
    "# RS =RSx[indx_basin,:]\n",
    "# pd.DataFrame(RS)\n",
    "\n"
   ]
  },
  {
   "cell_type": "code",
   "execution_count": null,
   "metadata": {},
   "outputs": [],
   "source": [
    "# import matplotlib.pyplot as plt\n",
    "# for ii in range(RS.shape[0]):\n",
    "#     #plt.plot(np.squeeze(RSSHP[ii,:]/1e9))\n",
    "#     plt.plot(np.squeeze(RS[ii,:]/1e9))\n",
    "    \n",
    "#     plt.title(capacity_dfbasin[indx_basin[ii]]*1e-3)\n",
    "#     plt.show()"
   ]
  }
 ],
 "metadata": {
  "kernelspec": {
   "display_name": "Python 3.9.5 ('base')",
   "language": "python",
   "name": "python3"
  },
  "language_info": {
   "codemirror_mode": {
    "name": "ipython",
    "version": 3
   },
   "file_extension": ".py",
   "mimetype": "text/x-python",
   "name": "python",
   "nbconvert_exporter": "python",
   "pygments_lexer": "ipython3",
   "version": "3.9.5"
  },
  "orig_nbformat": 4,
  "vscode": {
   "interpreter": {
    "hash": "4442a059423b1d8cb2d566f1d7a9e596fd1852f4b9b9e9d6f69b72f942b31330"
   }
  }
 },
 "nbformat": 4,
 "nbformat_minor": 2
}
