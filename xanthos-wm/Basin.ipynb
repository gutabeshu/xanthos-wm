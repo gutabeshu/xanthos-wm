{
 "cells": [
  {
   "cell_type": "code",
   "execution_count": 2,
   "metadata": {},
   "outputs": [
    {
     "name": "stdout",
     "output_type": "stream",
     "text": [
      "INFO: ProjectName : pm_abcd_mrtm_watch_1971_2001\n",
      "INFO: InputFolder : D:\\Xanthos-Repo\\xanthos-wm\\example\\input\n",
      "INFO: OutputFolder: D:\\Xanthos-Repo\\xanthos-wm\\example\\output\\pm_abcd_mrtm_watch_1971_2001\n",
      "INFO: StartYear - End Year: 1971-2001\n",
      "INFO: Number of Months    : 372\n",
      "INFO: Running: Historic Mode\n",
      "INFO: ---Processing PET...\n",
      "INFO: ---PET processed in 0.06781959533691406 seconds---\n",
      "INFO: ---Loading calibration data:\n",
      "INFO: ---Running calibration:\n",
      "\tCalibrating Basin:  229\n",
      "Initializing the  Shuffled Complex Evolution (SCE-UA) algorithm  with  10000  repetitions\n",
      "The objective function will be minimized\n",
      "Starting burn-in sampling...\n",
      "Initialize database...\n",
      "['csv', 'hdf5', 'ram', 'sql', 'custom', 'noData']\n",
      "* Database file 'D:/Xanthos-Repo/xanthos-wm/example/output/pm_abcd_mrtm_watch_1971_2001\\basin_calibration_229sceua_Runoff_ObjF_monthlyKGE.csv' created.\n",
      "19 of 10000, minimal objective function=-0.122352, time remaining: 00:17:25\n",
      "39 of 10000, minimal objective function=-0.122352, time remaining: 00:17:07\n",
      "58 of 10000, minimal objective function=-0.219274, time remaining: 00:17:18\n",
      "77 of 10000, minimal objective function=-0.219274, time remaining: 00:17:22\n",
      "97 of 10000, minimal objective function=-0.219274, time remaining: 00:17:13\n",
      "116 of 10000, minimal objective function=-0.219274, time remaining: 00:17:16\n",
      "136 of 10000, minimal objective function=-0.219274, time remaining: 00:17:10\n",
      "155 of 10000, minimal objective function=-0.219274, time remaining: 00:17:13\n",
      "175 of 10000, minimal objective function=-0.570558, time remaining: 00:17:08\n",
      "195 of 10000, minimal objective function=-0.570558, time remaining: 00:17:03\n",
      "214 of 10000, minimal objective function=-0.570558, time remaining: 00:17:05\n",
      "Burn-in sampling completed...\n",
      "Starting Complex Evolution...\n",
      "SEARCH WAS STOPPED AT TRIAL NUMBER: 220\n",
      "NUMBER OF DISCARDED TRIALS: 0\n",
      "NORMALIZED GEOMETRIC RANGE = nan\n",
      "THE BEST POINT HAS IMPROVED IN LAST 100 LOOPS BY 100000.000000 PERCENT\n",
      "\n",
      "*** Final SPOTPY summary ***\n",
      "Total Duration: 23.14 seconds\n",
      "Total Repetitions: 220\n",
      "Minimal objective value: -0.570558\n",
      "Corresponding parameter setting:\n",
      "a: 0.987562\n",
      "b: 0.829998\n",
      "c: 0.23136\n",
      "d: 0.0603412\n",
      "m: 0.855509\n",
      "******************************\n",
      "\n",
      "Calibration KGE: 0.5705584399985049, Validation KGE: 0.46596451944997064\n",
      "Simulated runoff output:D:/Xanthos-Repo/xanthos-wm/example/output/pm_abcd_mrtm_watch_1971_2001/Simulated_Runoff_mm_per_month229.npy\n",
      "INFO: ---Output simulation results:\n",
      "DEBUG: No valid output variables specified\n",
      "INFO: Aggregated unit is km3permonth\n",
      "INFO: ---Output finished: 0.001995563507080078 seconds ---\n",
      "INFO: End of pm_abcd_mrtm_watch_1971_2001\n"
     ]
    }
   ],
   "source": [
    "import os\n",
    "import warnings\n",
    "warnings.filterwarnings(\"ignore\")\n",
    "\n",
    "from xanthos import Xanthos\n",
    "\n",
    "\n",
    "def run(ini):\n",
    "\n",
    "    # instantiate model\n",
    "    xth = Xanthos(ini)\n",
    "\n",
    "    # run intended configuration\n",
    "    xth.execute()\n",
    "\n",
    "    return xth\n",
    "\n",
    "\n",
    "if __name__ == \"__main__\":\n",
    "\n",
    "    # full path to parameterized config file\n",
    "    ini = os.path.join('D:/Xanthos-Repo/xanthos-wm/xanthos-wm/pm_abcd_mrtm_managed.ini')\n",
    "\n",
    "    # run the model\n",
    "    xth = run(ini)\n",
    "\n",
    "    del xth"
   ]
  },
  {
   "cell_type": "code",
   "execution_count": 3,
   "metadata": {},
   "outputs": [],
   "source": [
    "# import numpy as np\n",
    "# import pandas as pd\n",
    "# import matplotlib.pyplot as plt\n",
    "# import xarray\n",
    "# import os\n",
    "\n",
    "# os.chdir('D:\\XanthosDev\\example\\input\\calibration')\n",
    "# reservoirs_halfDegree = xarray.open_dataset('Xanthos_reservoirs_halfDegree_global.nc')\n",
    "# ppose = reservoirs_halfDegree.Main_Use.values\n",
    "# Capacity = reservoirs_halfDegree.Capacity.values\n",
    "# Basin = reservoirs_halfDegree.Basin.values\n",
    "# # get grid indices for the current basin\n",
    "# dir_usgrid = 'D:/XanthosDev/Figures/Basins_Result/UScells/contributing_grids_all'\n",
    "# basin_num = 233\n",
    "# datad = (np.array(pd.read_csv(dir_usgrid + str(basin_num) + '.csv',header=None)) - 1).astype(np.int64)\n",
    "# basin_idx = np.squeeze(datad) \n",
    "\n",
    "# ppose_df = ppose[basin_idx]\n",
    "# Capacity_df = Capacity[basin_idx]\n",
    "\n",
    "# ppose_dfbasin = ppose_df[ppose_df>0]\n",
    "# capacity_dfbasin = Capacity_df[ppose_df>0]\n",
    "\n",
    "# indx_basin = np.where(ppose_dfbasin==1)[0]\n",
    "# #capacity_dfbasinHP = capacity_dfbasin[indx_basin]"
   ]
  },
  {
   "cell_type": "code",
   "execution_count": 4,
   "metadata": {},
   "outputs": [],
   "source": [
    "# import numpy as np\n",
    "# import pandas as pd\n",
    "\n",
    "\n",
    "# #RSx = np.load('D:/XanthosDev/Figures/RunResult-02022022/ResStorage_' + str(basin_num)+ '.npy')\n",
    "# RSx = np.load('D:\\\\XanthosDev\\\\Mengqi\\\\SimReservoirs_229.npy')\n",
    "# RS =RSx[indx_basin,:]\n",
    "# pd.DataFrame(RS)\n",
    "\n"
   ]
  },
  {
   "cell_type": "code",
   "execution_count": 5,
   "metadata": {},
   "outputs": [],
   "source": [
    "# import matplotlib.pyplot as plt\n",
    "# for ii in range(RS.shape[0]):\n",
    "#     #plt.plot(np.squeeze(RSSHP[ii,:]/1e9))\n",
    "#     plt.plot(np.squeeze(RS[ii,:]/1e9))\n",
    "    \n",
    "#     plt.title(capacity_dfbasin[indx_basin[ii]]*1e-3)\n",
    "#     plt.show()"
   ]
  }
 ],
 "metadata": {
  "kernelspec": {
   "display_name": "Python 3.9.5 ('base')",
   "language": "python",
   "name": "python3"
  },
  "language_info": {
   "codemirror_mode": {
    "name": "ipython",
    "version": 3
   },
   "file_extension": ".py",
   "mimetype": "text/x-python",
   "name": "python",
   "nbconvert_exporter": "python",
   "pygments_lexer": "ipython3",
   "version": "3.9.5"
  },
  "orig_nbformat": 4,
  "vscode": {
   "interpreter": {
    "hash": "4442a059423b1d8cb2d566f1d7a9e596fd1852f4b9b9e9d6f69b72f942b31330"
   }
  }
 },
 "nbformat": 4,
 "nbformat_minor": 2
}
