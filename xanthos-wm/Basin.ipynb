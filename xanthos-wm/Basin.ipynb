{
 "cells": [
  {
   "cell_type": "code",
   "execution_count": 1,
   "metadata": {},
   "outputs": [],
   "source": [
    "# import os\n",
    "# import warnings\n",
    "# warnings.filterwarnings(\"ignore\")\n",
    "\n",
    "# from xanthos import Xanthos\n",
    "\n",
    "\n",
    "# def run(ini):\n",
    "\n",
    "#     # instantiate model\n",
    "#     xth = Xanthos(ini)\n",
    "\n",
    "#     # run intended configuration\n",
    "#     xth.execute()\n",
    "\n",
    "#     return xth\n",
    "\n",
    "\n",
    "# if __name__ == \"__main__\":\n",
    "\n",
    "#     # full path to parameterized config file\n",
    "#     ini = os.path.join('D:/Xanthos-Repo/xanthos-wm/xanthos-wm/pm_abcd_mrtm_managed.ini')\n",
    "\n",
    "#     # run the model\n",
    "#     xth = run(ini)\n",
    "\n",
    "#     del xth"
   ]
  },
  {
   "cell_type": "code",
   "execution_count": 2,
   "metadata": {},
   "outputs": [],
   "source": [
    "import os\n",
    "import logging\n",
    "import calendar\n",
    "import numba as nb\n",
    "import numpy as np\n",
    "import pandas as pd\n",
    "import xarray\n",
    "from scipy import interpolate\n",
    "# data\n",
    "# os.chdir('D:/Xanthos-Lake/Codes/input-data')\n",
    "# inflow = np.load('Avg_ChFlow_m3persec.npy')\n",
    "# dir_data_nc = 'D:/Xanthos-Repo/example/input/calibration/Xanthos_reservoirs_halfDegree_global.nc'\n",
    "# Xanthos_reservoirs_halfDegree = xarray.open_dataset(dir_data_nc)\n",
    "# Main_Use = Xanthos_reservoirs_halfDegree.Main_Use.values\n",
    "# Capacity = Xanthos_reservoirs_halfDegree.Capacity.values\n",
    "# Dam_HGT = Xanthos_reservoirs_halfDegree.Dam_HGT.values\n",
    "# Xanthos_ID = Xanthos_reservoirs_halfDegree.Xanthos_ID.values\n",
    "# Qmax_Turbine = Xanthos_reservoirs_halfDegree.Qmax_Turbine.values\n",
    "# ECAP = Xanthos_reservoirs_halfDegree.ECAP.values\n"
   ]
  },
  {
   "cell_type": "code",
   "execution_count": 3,
   "metadata": {},
   "outputs": [],
   "source": [
    "# def get_power(res, inflow, start_yr, end_yr):\n",
    "#     \"\"\"\n",
    "#     computes reservoirs monthly power production in Megawatts\n",
    "#     \"\"\"\n",
    "#     sww = 9810  # specific weight of water N/m^3\n",
    "#     efficiency = 0.9  #\n",
    "#     power_all_dams = np.zeros_like(inflow.transpose())\n",
    "#     for t in range(inflow.shape[0]): \n",
    "#         Qmax_turbine = res['Qmax'].iloc[t]   \n",
    "#         release = inflow[t,:]\n",
    "#         release[release > Qmax_turbine] = Qmax_turbine\n",
    "#         h = res['head'].iloc[t]\n",
    "#         power = efficiency * sww * h * release *1e-6 # MegaWatts\n",
    "#         power_all_dams[:, t] = power\n",
    "    \n",
    "#     power_all_dams_df = pd.DataFrame(power_all_dams)\n",
    "#     power_all_dams_df.index = pd.date_range(start=start_yr, end=end_yr, freq='M')\n",
    "#     power_all_dams_df.columns = res['Xanthos_ID'].values.astype(np.int64)\n",
    "\n",
    "#     return power_all_dams_df"
   ]
  },
  {
   "cell_type": "code",
   "execution_count": 4,
   "metadata": {},
   "outputs": [],
   "source": [
    "import os\n",
    "\n",
    "os.chdir('D:/Xanthos-Repo/xanthos-wm/xanthos-wm/xanthos/hydropower')\n",
    "import actual_wm_offline"
   ]
  },
  {
   "cell_type": "code",
   "execution_count": 5,
   "metadata": {},
   "outputs": [],
   "source": [
    "import pandas as pd\n",
    "import numpy as np\n",
    "HydroDamData = 'D:/Xanthos-Repo/example/input/hydropower_actual/resData_1593.csv'\n",
    "GridData =  'D:/Xanthos-Repo/example/input/hydropower_actual/gridData.csv'\n",
    "DrainArea =  'D:/Xanthos-Repo/example/input/hydropower_actual/DRT_half_SourceArea_globe_float.txt'\n",
    "MissingCap =  'D:/Xanthos-Repo/example/input/hydropower_actual/simulated_cap_by_country.csv'\n",
    "inflow = np.load('D:/Xanthos-Lake/Codes/input-data/Avg_ChFlow_m3persec.npy')"
   ]
  },
  {
   "cell_type": "code",
   "execution_count": 6,
   "metadata": {},
   "outputs": [
    {
     "name": "stderr",
     "output_type": "stream",
     "text": [
      "D:\\Xanthos-Repo\\xanthos-wm\\xanthos-wm\\xanthos\\hydropower\\actual_wm_offline.py:419: FutureWarning: In a future version of pandas all arguments of concat except for the argument 'objs' will be keyword-only.\n",
      "  by_country_df = pd.concat([self.missing_cap, by_region_df], 1)\n",
      "D:\\Xanthos-Repo\\xanthos-wm\\xanthos-wm\\xanthos\\hydropower\\actual_wm_offline.py:424: FutureWarning: In a future version of pandas all arguments of concat except for the argument 'objs' will be keyword-only.\n",
      "  by_reservoir_df = pd.concat([self.res_data,\n"
     ]
    }
   ],
   "source": [
    "model_actual_hp = actual_wm_offline.HydropowerActual(HydroDamData, GridData, DrainArea, MissingCap, inflow)"
   ]
  },
  {
   "attachments": {},
   "cell_type": "markdown",
   "metadata": {},
   "source": [
    "### actual HP"
   ]
  },
  {
   "cell_type": "code",
   "execution_count": 7,
   "metadata": {},
   "outputs": [],
   "source": [
    "# hydropower\n",
    "# indx_HPresv = (Main_Use==1)\n",
    "# inflow_HP = inflow[indx_HPresv,:]\n",
    "# res = pd.DataFrame()\n",
    "# res['Xanthos_ID'] = Xanthos_ID[indx_HPresv]\n",
    "# res['Qmax'] = Qmax_Turbine[indx_HPresv]\n",
    "# res['ECAP'] = ECAP[indx_HPresv]\n",
    "# res['head'] = np.divide(res['ECAP'].values*1e6, (res['Qmax'].values*9810))\n",
    "# power_HP_df = get_power(res, inflow_HP, start_yr='1/1/1971', end_yr='12/31/2001')\n",
    "#power_HP_df"
   ]
  },
  {
   "attachments": {},
   "cell_type": "markdown",
   "metadata": {},
   "source": [
    "### potential HP"
   ]
  },
  {
   "cell_type": "code",
   "execution_count": 8,
   "metadata": {},
   "outputs": [],
   "source": [
    "# all\n",
    "# indx_resv = (Main_Use > 0)\n",
    "# inflow_all = inflow[indx_resv,:]\n",
    "# res_all = pd.DataFrame()\n",
    "# ex = 0.8\n",
    "# res_all['Xanthos_ID'] = Xanthos_ID[indx_resv]\n",
    "# res_all['Qmax'] =  pd.DataFrame(inflow_all).quantile(ex, axis=1)\n",
    "# res_all['head'] = Dam_HGT[indx_resv]\n",
    "# power_potential_df = get_power(res_all, inflow_all, start_yr='1/1/1971', end_yr='12/31/2001')\n",
    "#power_potential_df"
   ]
  },
  {
   "cell_type": "code",
   "execution_count": 9,
   "metadata": {},
   "outputs": [],
   "source": [
    "# import warnings\n",
    "# warnings.filterwarnings(\"ignore\")\n",
    "\n",
    "# import matplotlib as mpl\n",
    "# import matplotlib.pyplot as plt\n",
    "# import proplot as pplt\n",
    "# # xarray\n",
    "# mpl.rcParams['xtick.labelsize'] = 12\n",
    "# mpl.rcParams['ytick.labelsize'] = 12\n",
    "\n",
    "\n",
    "# ## Ploting\n",
    "# SAVE_KWDS = {\"bbox_inches\": \"tight\", \"dpi\": 450, \"facecolor\": \"w\"}\n",
    "# BASE_PLOT = {\"facecolor\": 'none', \"edgecolor\": 'k', \"alpha\": 0.9,}#  \"figsize\": (4, 4)}\n",
    "# fig, axs = pplt.subplots(nrows=15, ncols=1, refheight='2in', refwidth='5in')\n",
    "# for nn in range(15):\n",
    "#     axs[nn].plot(power_HP_df[[int(res['Xanthos_ID'][nn])]],'light blue')\n",
    "#     ecap_df = pd.DataFrame(res['ECAP'].iloc[nn] * np.ones([power_HP_df.shape[0], ]))\n",
    "#     ecap_df.index = power_HP_df.index\n",
    "#     axs[nn].plot(ecap_df,'red')\n",
    "#     axs[nn].format(abcstyle='a)', ylabel = 'P [MW]',  title = 'XanthosID :' + str(res['Xanthos_ID'][nn].astype(np.int64)), fontsize=12)\n",
    "#     #axs[nn].ticklabel_format(axis='y',useOffset=False)\n",
    "# plt.tight_layout()"
   ]
  },
  {
   "cell_type": "code",
   "execution_count": 10,
   "metadata": {},
   "outputs": [],
   "source": [
    "# import numpy as np\n",
    "# import pandas as pd"
   ]
  }
 ],
 "metadata": {
  "kernelspec": {
   "display_name": "py3env",
   "language": "python",
   "name": "python3"
  },
  "language_info": {
   "codemirror_mode": {
    "name": "ipython",
    "version": 3
   },
   "file_extension": ".py",
   "mimetype": "text/x-python",
   "name": "python",
   "nbconvert_exporter": "python",
   "pygments_lexer": "ipython3",
   "version": "3.10.8"
  },
  "orig_nbformat": 4,
  "vscode": {
   "interpreter": {
    "hash": "68ffaf46e1ea782e83255b22895c840c8edbc6bf305afc8b520f2f8e2de3850a"
   }
  }
 },
 "nbformat": 4,
 "nbformat_minor": 2
}
