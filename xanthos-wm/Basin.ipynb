{
 "cells": [
  {
   "cell_type": "code",
   "execution_count": 1,
   "metadata": {},
   "outputs": [
    {
     "name": "stderr",
     "output_type": "stream",
     "text": [
      "INFO: ini_reader.log_info(): ProjectName : pm_abcd_mrtm_watch_1971_2001\n"
     ]
    },
    {
     "name": "stdout",
     "output_type": "stream",
     "text": [
      "INFO: ProjectName : pm_abcd_mrtm_watch_1971_2001\n"
     ]
    },
    {
     "name": "stderr",
     "output_type": "stream",
     "text": [
      "INFO: ini_reader.log_info(): InputFolder : D:\\XanthosDev\\example\\input\n"
     ]
    },
    {
     "name": "stdout",
     "output_type": "stream",
     "text": [
      "INFO: InputFolder : D:\\XanthosDev\\example\\input\n"
     ]
    },
    {
     "name": "stderr",
     "output_type": "stream",
     "text": [
      "INFO: ini_reader.log_info(): OutputFolder: D:\\XanthosDev\\example\\output\\pm_abcd_mrtm_watch_1971_2001\n"
     ]
    },
    {
     "name": "stdout",
     "output_type": "stream",
     "text": [
      "INFO: OutputFolder: D:\\XanthosDev\\example\\output\\pm_abcd_mrtm_watch_1971_2001\n"
     ]
    },
    {
     "name": "stderr",
     "output_type": "stream",
     "text": [
      "INFO: ini_reader.log_info(): StartYear - End Year: 1901-2019\n"
     ]
    },
    {
     "name": "stdout",
     "output_type": "stream",
     "text": [
      "INFO: StartYear - End Year: 1901-2019\n"
     ]
    },
    {
     "name": "stderr",
     "output_type": "stream",
     "text": [
      "INFO: ini_reader.log_info(): Number of Months    : 1428\n"
     ]
    },
    {
     "name": "stdout",
     "output_type": "stream",
     "text": [
      "INFO: Number of Months    : 1428\n"
     ]
    },
    {
     "name": "stderr",
     "output_type": "stream",
     "text": [
      "INFO: ini_reader.log_info(): Running: Historic Mode\n"
     ]
    },
    {
     "name": "stdout",
     "output_type": "stream",
     "text": [
      "INFO: Running: Historic Mode\n"
     ]
    },
    {
     "name": "stderr",
     "output_type": "stream",
     "text": [
      "INFO: components.calibrate(): ---Processing PET...\n"
     ]
    },
    {
     "name": "stdout",
     "output_type": "stream",
     "text": [
      "INFO: ---Processing PET...\n"
     ]
    },
    {
     "name": "stderr",
     "output_type": "stream",
     "text": [
      "INFO: components.calibrate(): ---PET processed in 0.24338650703430176 seconds---\n"
     ]
    },
    {
     "name": "stdout",
     "output_type": "stream",
     "text": [
      "INFO: ---PET processed in 0.24338650703430176 seconds---\n"
     ]
    },
    {
     "name": "stderr",
     "output_type": "stream",
     "text": [
      "INFO: components.calibrate(): ---Loading calibration data:\n"
     ]
    },
    {
     "name": "stdout",
     "output_type": "stream",
     "text": [
      "INFO: ---Loading calibration data:\n"
     ]
    },
    {
     "name": "stderr",
     "output_type": "stream",
     "text": [
      "INFO: components.calibrate(): ---Running calibration:\n"
     ]
    },
    {
     "name": "stdout",
     "output_type": "stream",
     "text": [
      "INFO: ---Running calibration:\n",
      "\tCalibrating Basin:  87\n",
      "Initializing the  Shuffled Complex Evolution (SCE-UA) algorithm  with  10000  repetitions\n",
      "The objective function will be minimized\n",
      "Starting burn-in sampling...\n",
      "Initialize database...\n",
      "['csv', 'hdf5', 'ram', 'sql', 'custom', 'noData']\n",
      "* Database file 'D:/Xanthos-Repo/example/output/pm_abcd_mrtm_watch_1971_2001\\calibration_outputs\\Basin_87_calibration_sceua_Runoff_ObjF_monthlyKGE.csv' created.\n",
      "3 of 10000, minimal objective function=2.16534, time remaining: 01:35:47\n",
      "7 of 10000, minimal objective function=0.0666979, time remaining: 01:43:12\n",
      "10 of 10000, minimal objective function=0.0666979, time remaining: 01:47:34\n",
      "13 of 10000, minimal objective function=0.0666979, time remaining: 01:48:49\n",
      "16 of 10000, minimal objective function=0.0666979, time remaining: 01:49:44\n",
      "19 of 10000, minimal objective function=0.0666979, time remaining: 01:50:14\n",
      "23 of 10000, minimal objective function=0.0666979, time remaining: 01:49:57\n",
      "27 of 10000, minimal objective function=0.0666979, time remaining: 01:49:58\n",
      "31 of 10000, minimal objective function=0.0666979, time remaining: 01:49:43\n",
      "34 of 10000, minimal objective function=0.0666979, time remaining: 01:49:48\n",
      "37 of 10000, minimal objective function=0.0666979, time remaining: 01:49:51\n",
      "40 of 10000, minimal objective function=0.0666979, time remaining: 01:50:23\n",
      "44 of 10000, minimal objective function=0.0666979, time remaining: 01:50:36\n",
      "48 of 10000, minimal objective function=0.0666979, time remaining: 01:50:29\n",
      "51 of 10000, minimal objective function=0.0666979, time remaining: 01:50:29\n",
      "54 of 10000, minimal objective function=0.0666979, time remaining: 01:51:05\n",
      "57 of 10000, minimal objective function=0.0666979, time remaining: 01:51:21\n",
      "61 of 10000, minimal objective function=0.0666979, time remaining: 01:51:12\n",
      "64 of 10000, minimal objective function=-0.119169, time remaining: 01:51:29\n",
      "67 of 10000, minimal objective function=-0.119169, time remaining: 01:51:33\n",
      "70 of 10000, minimal objective function=-0.119169, time remaining: 01:51:44\n",
      "73 of 10000, minimal objective function=-0.119169, time remaining: 01:51:49\n",
      "76 of 10000, minimal objective function=-0.13312, time remaining: 01:51:48\n",
      "79 of 10000, minimal objective function=-0.13312, time remaining: 01:51:54\n",
      "82 of 10000, minimal objective function=-0.13312, time remaining: 01:51:50\n",
      "86 of 10000, minimal objective function=-0.13312, time remaining: 01:51:50\n",
      "90 of 10000, minimal objective function=-0.13312, time remaining: 01:51:37\n",
      "94 of 10000, minimal objective function=-0.13312, time remaining: 01:51:24\n",
      "97 of 10000, minimal objective function=-0.13312, time remaining: 01:51:22\n",
      "101 of 10000, minimal objective function=-0.13312, time remaining: 01:51:08\n",
      "105 of 10000, minimal objective function=-0.13312, time remaining: 01:50:51\n",
      "109 of 10000, minimal objective function=-0.13312, time remaining: 01:50:40\n",
      "113 of 10000, minimal objective function=-0.13312, time remaining: 01:50:23\n",
      "117 of 10000, minimal objective function=-0.13312, time remaining: 01:50:22\n",
      "121 of 10000, minimal objective function=-0.13312, time remaining: 01:50:11\n",
      "125 of 10000, minimal objective function=-0.13312, time remaining: 01:50:02\n",
      "128 of 10000, minimal objective function=-0.13312, time remaining: 01:50:03\n",
      "131 of 10000, minimal objective function=-0.13312, time remaining: 01:50:02\n",
      "134 of 10000, minimal objective function=-0.13312, time remaining: 01:50:01\n",
      "138 of 10000, minimal objective function=-0.13312, time remaining: 01:49:49\n",
      "142 of 10000, minimal objective function=-0.13312, time remaining: 01:49:43\n",
      "146 of 10000, minimal objective function=-0.13312, time remaining: 01:49:35\n",
      "150 of 10000, minimal objective function=-0.13312, time remaining: 01:49:27\n",
      "153 of 10000, minimal objective function=-0.13312, time remaining: 01:49:30\n",
      "156 of 10000, minimal objective function=-0.13312, time remaining: 01:49:29\n",
      "160 of 10000, minimal objective function=-0.13312, time remaining: 01:49:21\n",
      "164 of 10000, minimal objective function=-0.13312, time remaining: 01:49:13\n",
      "168 of 10000, minimal objective function=-0.13312, time remaining: 01:49:06\n",
      "172 of 10000, minimal objective function=-0.13312, time remaining: 01:49:00\n",
      "175 of 10000, minimal objective function=-0.647905, time remaining: 01:49:02\n",
      "178 of 10000, minimal objective function=-0.647905, time remaining: 01:49:01\n",
      "182 of 10000, minimal objective function=-0.647905, time remaining: 01:48:53\n",
      "185 of 10000, minimal objective function=-0.647905, time remaining: 01:48:55\n",
      "188 of 10000, minimal objective function=-0.647905, time remaining: 01:48:56\n",
      "191 of 10000, minimal objective function=-0.647905, time remaining: 01:48:56\n",
      "195 of 10000, minimal objective function=-0.647905, time remaining: 01:49:03\n",
      "199 of 10000, minimal objective function=-0.647905, time remaining: 01:48:59\n",
      "203 of 10000, minimal objective function=-0.647905, time remaining: 01:48:56\n",
      "206 of 10000, minimal objective function=-0.647905, time remaining: 01:48:54\n",
      "209 of 10000, minimal objective function=-0.647905, time remaining: 01:49:00\n",
      "212 of 10000, minimal objective function=-0.647905, time remaining: 01:49:03\n",
      "215 of 10000, minimal objective function=-0.647905, time remaining: 01:49:02\n",
      "219 of 10000, minimal objective function=-0.647905, time remaining: 01:48:58\n",
      "222 of 10000, minimal objective function=-0.647905, time remaining: 01:49:01\n",
      "225 of 10000, minimal objective function=-0.647905, time remaining: 01:49:18\n",
      "228 of 10000, minimal objective function=-0.647905, time remaining: 01:49:18\n",
      "231 of 10000, minimal objective function=-0.647905, time remaining: 01:49:16\n",
      "234 of 10000, minimal objective function=-0.647905, time remaining: 01:49:15\n",
      "237 of 10000, minimal objective function=-0.647905, time remaining: 01:49:14\n",
      "240 of 10000, minimal objective function=-0.647905, time remaining: 01:49:13\n",
      "244 of 10000, minimal objective function=-0.647905, time remaining: 01:49:08\n",
      "248 of 10000, minimal objective function=-0.647905, time remaining: 01:49:04\n",
      "252 of 10000, minimal objective function=-0.647905, time remaining: 01:49:00\n",
      "256 of 10000, minimal objective function=-0.647905, time remaining: 01:48:54\n",
      "260 of 10000, minimal objective function=-0.647905, time remaining: 01:48:48\n",
      "264 of 10000, minimal objective function=-0.647905, time remaining: 01:48:41\n",
      "268 of 10000, minimal objective function=-0.647905, time remaining: 01:48:37\n",
      "272 of 10000, minimal objective function=-0.647905, time remaining: 01:48:32\n",
      "276 of 10000, minimal objective function=-0.647905, time remaining: 01:48:27\n",
      "280 of 10000, minimal objective function=-0.647905, time remaining: 01:48:22\n",
      "284 of 10000, minimal objective function=-0.647905, time remaining: 01:48:26\n",
      "287 of 10000, minimal objective function=-0.647905, time remaining: 01:48:27\n",
      "291 of 10000, minimal objective function=-0.647905, time remaining: 01:48:24\n",
      "295 of 10000, minimal objective function=-0.647905, time remaining: 01:48:17\n",
      "299 of 10000, minimal objective function=-0.647905, time remaining: 01:48:13\n",
      "303 of 10000, minimal objective function=-0.647905, time remaining: 01:48:07\n",
      "307 of 10000, minimal objective function=-0.647905, time remaining: 01:48:03\n",
      "311 of 10000, minimal objective function=-0.647905, time remaining: 01:47:56\n",
      "315 of 10000, minimal objective function=-0.647905, time remaining: 01:47:50\n",
      "319 of 10000, minimal objective function=-0.647905, time remaining: 01:47:44\n",
      "323 of 10000, minimal objective function=-0.647905, time remaining: 01:47:38\n",
      "327 of 10000, minimal objective function=-0.647905, time remaining: 01:47:33\n",
      "331 of 10000, minimal objective function=-0.647905, time remaining: 01:47:28\n",
      "335 of 10000, minimal objective function=-0.647905, time remaining: 01:47:22\n",
      "339 of 10000, minimal objective function=-0.647905, time remaining: 01:47:16\n",
      "343 of 10000, minimal objective function=-0.647905, time remaining: 01:47:10\n",
      "347 of 10000, minimal objective function=-0.647905, time remaining: 01:47:05\n",
      "351 of 10000, minimal objective function=-0.647905, time remaining: 01:46:59\n",
      "354 of 10000, minimal objective function=-0.647905, time remaining: 01:47:01\n",
      "358 of 10000, minimal objective function=-0.647905, time remaining: 01:46:56\n",
      "362 of 10000, minimal objective function=-0.647905, time remaining: 01:46:52\n",
      "365 of 10000, minimal objective function=-0.765148, time remaining: 01:46:52\n",
      "369 of 10000, minimal objective function=-0.765148, time remaining: 01:46:47\n",
      "373 of 10000, minimal objective function=-0.765148, time remaining: 01:46:42\n",
      "377 of 10000, minimal objective function=-0.765148, time remaining: 01:46:37\n",
      "381 of 10000, minimal objective function=-0.765148, time remaining: 01:46:33\n",
      "385 of 10000, minimal objective function=-0.765148, time remaining: 01:46:28\n",
      "389 of 10000, minimal objective function=-0.765148, time remaining: 01:46:23\n",
      "393 of 10000, minimal objective function=-0.765148, time remaining: 01:46:18\n",
      "397 of 10000, minimal objective function=-0.765148, time remaining: 01:46:14\n",
      "401 of 10000, minimal objective function=-0.765148, time remaining: 01:46:09\n",
      "405 of 10000, minimal objective function=-0.765148, time remaining: 01:46:03\n",
      "409 of 10000, minimal objective function=-0.765148, time remaining: 01:45:59\n",
      "413 of 10000, minimal objective function=-0.765148, time remaining: 01:45:54\n",
      "417 of 10000, minimal objective function=-0.765148, time remaining: 01:45:50\n",
      "421 of 10000, minimal objective function=-0.765148, time remaining: 01:45:45\n",
      "425 of 10000, minimal objective function=-0.765148, time remaining: 01:45:40\n",
      "429 of 10000, minimal objective function=-0.765148, time remaining: 01:45:35\n",
      "433 of 10000, minimal objective function=-0.765148, time remaining: 01:45:31\n",
      "437 of 10000, minimal objective function=-0.765148, time remaining: 01:45:27\n",
      "441 of 10000, minimal objective function=-0.765148, time remaining: 01:45:21\n",
      "445 of 10000, minimal objective function=-0.765148, time remaining: 01:45:17\n",
      "449 of 10000, minimal objective function=-0.765148, time remaining: 01:45:13\n",
      "453 of 10000, minimal objective function=-0.765148, time remaining: 01:45:10\n",
      "457 of 10000, minimal objective function=-0.765148, time remaining: 01:45:05\n",
      "461 of 10000, minimal objective function=-0.765148, time remaining: 01:45:00\n",
      "465 of 10000, minimal objective function=-0.765148, time remaining: 01:44:56\n",
      "469 of 10000, minimal objective function=-0.765148, time remaining: 01:44:53\n",
      "473 of 10000, minimal objective function=-0.765148, time remaining: 01:44:52\n",
      "477 of 10000, minimal objective function=-0.765148, time remaining: 01:44:50\n",
      "481 of 10000, minimal objective function=-0.765148, time remaining: 01:44:46\n",
      "485 of 10000, minimal objective function=-0.765148, time remaining: 01:44:41\n",
      "488 of 10000, minimal objective function=-0.765148, time remaining: 01:44:41\n",
      "491 of 10000, minimal objective function=-0.765148, time remaining: 01:44:42\n",
      "495 of 10000, minimal objective function=-0.765148, time remaining: 01:44:38\n",
      "499 of 10000, minimal objective function=-0.765148, time remaining: 01:44:33\n",
      "503 of 10000, minimal objective function=-0.765148, time remaining: 01:44:29\n",
      "507 of 10000, minimal objective function=-0.765148, time remaining: 01:44:24\n",
      "511 of 10000, minimal objective function=-0.765148, time remaining: 01:44:20\n",
      "515 of 10000, minimal objective function=-0.765148, time remaining: 01:44:15\n",
      "519 of 10000, minimal objective function=-0.765148, time remaining: 01:44:10\n",
      "523 of 10000, minimal objective function=-0.765148, time remaining: 01:44:04\n",
      "527 of 10000, minimal objective function=-0.765148, time remaining: 01:44:00\n",
      "531 of 10000, minimal objective function=-0.765148, time remaining: 01:43:56\n",
      "535 of 10000, minimal objective function=-0.765148, time remaining: 01:43:53\n",
      "539 of 10000, minimal objective function=-0.765148, time remaining: 01:43:48\n",
      "543 of 10000, minimal objective function=-0.765148, time remaining: 01:43:43\n",
      "547 of 10000, minimal objective function=-0.765148, time remaining: 01:43:39\n",
      "Burn-in sampling completed...\n",
      "Starting Complex Evolution...\n",
      "SEARCH WAS STOPPED AT TRIAL NUMBER: 550\n",
      "NUMBER OF DISCARDED TRIALS: 0\n",
      "NORMALIZED GEOMETRIC RANGE = nan\n",
      "THE BEST POINT HAS IMPROVED IN LAST 50 LOOPS BY 100000.000000 PERCENT\n",
      "\n",
      "*** Final SPOTPY summary ***\n",
      "Total Duration: 362.43 seconds\n",
      "Total Repetitions: 550\n",
      "Minimal objective value: -0.765148\n",
      "Corresponding parameter setting:\n",
      "a: 0.997391\n",
      "b: 1.51286\n",
      "c: 0.211115\n",
      "d: 0.598815\n",
      "m: 0.0472172\n",
      "******************************\n",
      "\n",
      "Calibration KGE: 0.7651469635636368, Validation KGE: 0.7755661782357093\n",
      "D:/Xanthos-Repo/example/output/pm_abcd_mrtm_watch_1971_2001\\simulation_outputs\\Basin_87_Simulated_Runoff_mmpermonth.npy\n",
      "\tCalibrating Basin:  183\n",
      "Initializing the  Shuffled Complex Evolution (SCE-UA) algorithm  with  10000  repetitions\n",
      "The objective function will be minimized\n",
      "Starting burn-in sampling...\n",
      "Initialize database...\n",
      "['csv', 'hdf5', 'ram', 'sql', 'custom', 'noData']\n",
      "* Database file 'D:/Xanthos-Repo/example/output/pm_abcd_mrtm_watch_1971_2001\\calibration_outputs\\Basin_183_calibration_sceua_Runoff_ObjF_monthlyKGE.csv' created.\n",
      "3 of 10000, minimal objective function=1.2939, time remaining: 01:29:23\n",
      "6 of 10000, minimal objective function=0.306815, time remaining: 01:42:38\n",
      "9 of 10000, minimal objective function=0.306815, time remaining: 01:48:05\n",
      "12 of 10000, minimal objective function=0.306815, time remaining: 01:50:59\n",
      "15 of 10000, minimal objective function=0.306815, time remaining: 01:55:21\n",
      "18 of 10000, minimal objective function=0.306815, time remaining: 01:56:36\n",
      "21 of 10000, minimal objective function=0.306815, time remaining: 01:58:00\n",
      "24 of 10000, minimal objective function=0.306815, time remaining: 02:00:03\n",
      "27 of 10000, minimal objective function=0.306815, time remaining: 02:00:28\n",
      "30 of 10000, minimal objective function=0.306815, time remaining: 02:00:40\n",
      "33 of 10000, minimal objective function=0.306815, time remaining: 02:01:12\n",
      "36 of 10000, minimal objective function=0.306815, time remaining: 02:01:20\n",
      "39 of 10000, minimal objective function=0.306815, time remaining: 02:01:21\n",
      "42 of 10000, minimal objective function=0.306815, time remaining: 02:01:29\n",
      "45 of 10000, minimal objective function=0.306815, time remaining: 02:01:45\n",
      "48 of 10000, minimal objective function=0.306815, time remaining: 02:02:47\n",
      "51 of 10000, minimal objective function=0.306815, time remaining: 02:03:02\n",
      "54 of 10000, minimal objective function=0.306815, time remaining: 02:04:07\n",
      "57 of 10000, minimal objective function=0.306815, time remaining: 02:04:11\n",
      "60 of 10000, minimal objective function=0.306815, time remaining: 02:04:07\n",
      "63 of 10000, minimal objective function=0.16488, time remaining: 02:04:06\n",
      "66 of 10000, minimal objective function=0.16488, time remaining: 02:03:57\n",
      "69 of 10000, minimal objective function=0.16488, time remaining: 02:03:59\n",
      "72 of 10000, minimal objective function=0.16488, time remaining: 02:04:48\n",
      "75 of 10000, minimal objective function=-0.167125, time remaining: 02:06:06\n",
      "78 of 10000, minimal objective function=-0.167125, time remaining: 02:06:21\n",
      "81 of 10000, minimal objective function=-0.167125, time remaining: 02:06:15\n",
      "84 of 10000, minimal objective function=-0.167125, time remaining: 02:06:06\n",
      "87 of 10000, minimal objective function=-0.167125, time remaining: 02:06:12\n",
      "90 of 10000, minimal objective function=-0.167125, time remaining: 02:06:07\n",
      "93 of 10000, minimal objective function=-0.167125, time remaining: 02:06:07\n",
      "96 of 10000, minimal objective function=-0.167125, time remaining: 02:05:55\n",
      "99 of 10000, minimal objective function=-0.167125, time remaining: 02:05:43\n",
      "102 of 10000, minimal objective function=-0.167125, time remaining: 02:05:33\n",
      "105 of 10000, minimal objective function=-0.167125, time remaining: 02:05:15\n",
      "108 of 10000, minimal objective function=-0.167125, time remaining: 02:05:08\n",
      "111 of 10000, minimal objective function=-0.167125, time remaining: 02:04:51\n",
      "114 of 10000, minimal objective function=-0.167125, time remaining: 02:04:45\n",
      "117 of 10000, minimal objective function=-0.167125, time remaining: 02:04:39\n",
      "120 of 10000, minimal objective function=-0.167125, time remaining: 02:04:28\n",
      "123 of 10000, minimal objective function=-0.167125, time remaining: 02:04:16\n",
      "126 of 10000, minimal objective function=-0.167125, time remaining: 02:04:06\n",
      "129 of 10000, minimal objective function=-0.167125, time remaining: 02:03:56\n",
      "132 of 10000, minimal objective function=-0.167125, time remaining: 02:03:44\n",
      "135 of 10000, minimal objective function=-0.167125, time remaining: 02:03:34\n",
      "138 of 10000, minimal objective function=-0.167125, time remaining: 02:03:44\n",
      "141 of 10000, minimal objective function=-0.167125, time remaining: 02:03:42\n",
      "144 of 10000, minimal objective function=-0.167125, time remaining: 02:03:34\n",
      "147 of 10000, minimal objective function=-0.167125, time remaining: 02:03:28\n",
      "150 of 10000, minimal objective function=-0.167125, time remaining: 02:03:23\n",
      "153 of 10000, minimal objective function=-0.167125, time remaining: 02:03:19\n",
      "156 of 10000, minimal objective function=-0.167125, time remaining: 02:03:13\n",
      "159 of 10000, minimal objective function=-0.167125, time remaining: 02:03:05\n",
      "162 of 10000, minimal objective function=-0.268344, time remaining: 02:02:56\n",
      "165 of 10000, minimal objective function=-0.268344, time remaining: 02:02:50\n",
      "168 of 10000, minimal objective function=-0.268344, time remaining: 02:02:44\n",
      "171 of 10000, minimal objective function=-0.268344, time remaining: 02:02:38\n",
      "174 of 10000, minimal objective function=-0.268344, time remaining: 02:02:34\n",
      "177 of 10000, minimal objective function=-0.268344, time remaining: 02:02:31\n",
      "180 of 10000, minimal objective function=-0.268344, time remaining: 02:02:29\n",
      "183 of 10000, minimal objective function=-0.268344, time remaining: 02:02:23\n",
      "186 of 10000, minimal objective function=-0.268344, time remaining: 02:02:17\n",
      "189 of 10000, minimal objective function=-0.268344, time remaining: 02:02:10\n",
      "192 of 10000, minimal objective function=-0.268344, time remaining: 02:02:03\n",
      "195 of 10000, minimal objective function=-0.268344, time remaining: 02:01:57\n",
      "198 of 10000, minimal objective function=-0.268344, time remaining: 02:01:50\n",
      "201 of 10000, minimal objective function=-0.268344, time remaining: 02:01:46\n",
      "204 of 10000, minimal objective function=-0.268344, time remaining: 02:01:43\n",
      "207 of 10000, minimal objective function=-0.268344, time remaining: 02:01:36\n",
      "210 of 10000, minimal objective function=-0.268344, time remaining: 02:01:30\n",
      "213 of 10000, minimal objective function=-0.268344, time remaining: 02:01:24\n",
      "216 of 10000, minimal objective function=-0.268344, time remaining: 02:01:19\n",
      "219 of 10000, minimal objective function=-0.268344, time remaining: 02:01:15\n",
      "222 of 10000, minimal objective function=-0.268344, time remaining: 02:01:15\n",
      "225 of 10000, minimal objective function=-0.268344, time remaining: 02:01:11\n",
      "228 of 10000, minimal objective function=-0.268344, time remaining: 02:01:07\n",
      "231 of 10000, minimal objective function=-0.268344, time remaining: 02:01:04\n",
      "234 of 10000, minimal objective function=-0.268344, time remaining: 02:01:00\n",
      "237 of 10000, minimal objective function=-0.268344, time remaining: 02:00:56\n",
      "240 of 10000, minimal objective function=-0.268344, time remaining: 02:00:51\n",
      "243 of 10000, minimal objective function=-0.268344, time remaining: 02:00:50\n",
      "246 of 10000, minimal objective function=-0.268344, time remaining: 02:00:55\n",
      "249 of 10000, minimal objective function=-0.268344, time remaining: 02:00:52\n",
      "252 of 10000, minimal objective function=-0.268344, time remaining: 02:00:49\n",
      "255 of 10000, minimal objective function=-0.268344, time remaining: 02:00:45\n",
      "258 of 10000, minimal objective function=-0.268344, time remaining: 02:00:42\n",
      "261 of 10000, minimal objective function=-0.268344, time remaining: 02:00:38\n",
      "264 of 10000, minimal objective function=-0.268344, time remaining: 02:00:35\n",
      "267 of 10000, minimal objective function=-0.268344, time remaining: 02:00:31\n",
      "270 of 10000, minimal objective function=-0.268344, time remaining: 02:00:27\n",
      "273 of 10000, minimal objective function=-0.268344, time remaining: 02:00:23\n",
      "276 of 10000, minimal objective function=-0.268344, time remaining: 02:00:24\n",
      "279 of 10000, minimal objective function=-0.268344, time remaining: 02:00:20\n",
      "282 of 10000, minimal objective function=-0.268344, time remaining: 02:00:16\n",
      "285 of 10000, minimal objective function=-0.268344, time remaining: 02:00:13\n",
      "288 of 10000, minimal objective function=-0.268344, time remaining: 02:00:07\n",
      "291 of 10000, minimal objective function=-0.268344, time remaining: 02:00:01\n",
      "294 of 10000, minimal objective function=-0.268344, time remaining: 01:59:57\n",
      "297 of 10000, minimal objective function=-0.268344, time remaining: 01:59:53\n",
      "300 of 10000, minimal objective function=-0.268344, time remaining: 01:59:47\n",
      "303 of 10000, minimal objective function=-0.268344, time remaining: 01:59:41\n",
      "306 of 10000, minimal objective function=-0.268344, time remaining: 01:59:36\n",
      "309 of 10000, minimal objective function=-0.268344, time remaining: 01:59:32\n",
      "312 of 10000, minimal objective function=-0.268344, time remaining: 01:59:28\n",
      "315 of 10000, minimal objective function=-0.268344, time remaining: 01:59:23\n",
      "318 of 10000, minimal objective function=-0.268344, time remaining: 01:59:19\n",
      "321 of 10000, minimal objective function=-0.268344, time remaining: 01:59:15\n",
      "324 of 10000, minimal objective function=-0.268344, time remaining: 01:59:11\n",
      "327 of 10000, minimal objective function=-0.268344, time remaining: 01:59:07\n",
      "330 of 10000, minimal objective function=-0.268344, time remaining: 01:59:02\n",
      "333 of 10000, minimal objective function=-0.268344, time remaining: 01:58:57\n",
      "336 of 10000, minimal objective function=-0.268344, time remaining: 01:58:53\n",
      "339 of 10000, minimal objective function=-0.268344, time remaining: 01:58:49\n",
      "342 of 10000, minimal objective function=-0.268344, time remaining: 01:58:46\n",
      "345 of 10000, minimal objective function=-0.268344, time remaining: 01:58:43\n",
      "348 of 10000, minimal objective function=-0.268344, time remaining: 01:58:38\n",
      "351 of 10000, minimal objective function=-0.268344, time remaining: 01:58:33\n",
      "354 of 10000, minimal objective function=-0.268344, time remaining: 01:58:28\n",
      "357 of 10000, minimal objective function=-0.268344, time remaining: 01:58:24\n",
      "360 of 10000, minimal objective function=-0.268344, time remaining: 01:58:20\n",
      "363 of 10000, minimal objective function=-0.268344, time remaining: 01:58:15\n",
      "366 of 10000, minimal objective function=-0.268344, time remaining: 01:58:10\n",
      "369 of 10000, minimal objective function=-0.268344, time remaining: 01:58:05\n",
      "372 of 10000, minimal objective function=-0.268344, time remaining: 01:58:00\n",
      "375 of 10000, minimal objective function=-0.268344, time remaining: 01:57:56\n",
      "378 of 10000, minimal objective function=-0.268344, time remaining: 01:57:52\n",
      "381 of 10000, minimal objective function=-0.268344, time remaining: 01:57:48\n",
      "384 of 10000, minimal objective function=-0.268344, time remaining: 01:57:48\n",
      "387 of 10000, minimal objective function=-0.268344, time remaining: 01:57:47\n",
      "390 of 10000, minimal objective function=-0.268344, time remaining: 01:57:48\n",
      "393 of 10000, minimal objective function=-0.268344, time remaining: 01:57:49\n",
      "396 of 10000, minimal objective function=-0.268344, time remaining: 01:57:44\n",
      "399 of 10000, minimal objective function=-0.268344, time remaining: 01:57:40\n",
      "402 of 10000, minimal objective function=-0.268344, time remaining: 01:57:36\n",
      "405 of 10000, minimal objective function=-0.268344, time remaining: 01:57:33\n",
      "408 of 10000, minimal objective function=-0.268344, time remaining: 01:57:28\n",
      "411 of 10000, minimal objective function=-0.268344, time remaining: 01:57:24\n",
      "414 of 10000, minimal objective function=-0.268344, time remaining: 01:57:21\n",
      "417 of 10000, minimal objective function=-0.268344, time remaining: 01:57:18\n",
      "420 of 10000, minimal objective function=-0.268344, time remaining: 01:57:14\n",
      "423 of 10000, minimal objective function=-0.268344, time remaining: 01:57:10\n",
      "426 of 10000, minimal objective function=-0.268344, time remaining: 01:57:08\n",
      "429 of 10000, minimal objective function=-0.268344, time remaining: 01:57:05\n",
      "432 of 10000, minimal objective function=-0.268344, time remaining: 01:57:04\n",
      "435 of 10000, minimal objective function=-0.268344, time remaining: 01:57:06\n",
      "438 of 10000, minimal objective function=-0.268344, time remaining: 01:57:03\n",
      "441 of 10000, minimal objective function=-0.268344, time remaining: 01:57:01\n",
      "444 of 10000, minimal objective function=-0.268344, time remaining: 01:56:58\n",
      "447 of 10000, minimal objective function=-0.268344, time remaining: 01:56:56\n",
      "450 of 10000, minimal objective function=-0.268344, time remaining: 01:56:54\n",
      "453 of 10000, minimal objective function=-0.268344, time remaining: 01:56:50\n",
      "456 of 10000, minimal objective function=-0.268344, time remaining: 01:56:47\n",
      "459 of 10000, minimal objective function=-0.268344, time remaining: 01:56:43\n",
      "462 of 10000, minimal objective function=-0.268344, time remaining: 01:56:40\n",
      "465 of 10000, minimal objective function=-0.268344, time remaining: 01:56:42\n",
      "468 of 10000, minimal objective function=-0.268344, time remaining: 01:56:40\n",
      "471 of 10000, minimal objective function=-0.268344, time remaining: 01:56:37\n",
      "474 of 10000, minimal objective function=-0.268344, time remaining: 01:56:34\n",
      "477 of 10000, minimal objective function=-0.268344, time remaining: 01:56:31\n",
      "480 of 10000, minimal objective function=-0.268344, time remaining: 01:56:28\n",
      "483 of 10000, minimal objective function=-0.268344, time remaining: 01:56:25\n",
      "486 of 10000, minimal objective function=-0.268344, time remaining: 01:56:22\n",
      "489 of 10000, minimal objective function=-0.268344, time remaining: 01:56:19\n",
      "492 of 10000, minimal objective function=-0.268344, time remaining: 01:56:17\n",
      "495 of 10000, minimal objective function=-0.268344, time remaining: 01:56:15\n",
      "498 of 10000, minimal objective function=-0.268344, time remaining: 01:56:13\n",
      "501 of 10000, minimal objective function=-0.268344, time remaining: 01:56:12\n",
      "504 of 10000, minimal objective function=-0.268344, time remaining: 01:56:10\n",
      "507 of 10000, minimal objective function=-0.268344, time remaining: 01:56:07\n",
      "510 of 10000, minimal objective function=-0.268344, time remaining: 01:56:04\n",
      "513 of 10000, minimal objective function=-0.268344, time remaining: 01:56:00\n",
      "516 of 10000, minimal objective function=-0.268344, time remaining: 01:55:56\n",
      "519 of 10000, minimal objective function=-0.268344, time remaining: 01:55:52\n",
      "522 of 10000, minimal objective function=-0.268344, time remaining: 01:55:48\n",
      "525 of 10000, minimal objective function=-0.268344, time remaining: 01:55:44\n",
      "528 of 10000, minimal objective function=-0.268344, time remaining: 01:55:40\n",
      "531 of 10000, minimal objective function=-0.268344, time remaining: 01:55:37\n",
      "534 of 10000, minimal objective function=-0.268344, time remaining: 01:55:34\n",
      "537 of 10000, minimal objective function=-0.268344, time remaining: 01:55:30\n",
      "540 of 10000, minimal objective function=-0.268344, time remaining: 01:55:26\n",
      "543 of 10000, minimal objective function=-0.268344, time remaining: 01:55:23\n",
      "546 of 10000, minimal objective function=-0.268344, time remaining: 01:55:19\n",
      "549 of 10000, minimal objective function=-0.268344, time remaining: 01:55:15\n",
      "Burn-in sampling completed...\n",
      "Starting Complex Evolution...\n",
      "SEARCH WAS STOPPED AT TRIAL NUMBER: 550\n",
      "NUMBER OF DISCARDED TRIALS: 0\n",
      "NORMALIZED GEOMETRIC RANGE = nan\n",
      "THE BEST POINT HAS IMPROVED IN LAST 50 LOOPS BY 100000.000000 PERCENT\n",
      "\n",
      "*** Final SPOTPY summary ***\n",
      "Total Duration: 403.19 seconds\n",
      "Total Repetitions: 550\n",
      "Minimal objective value: -0.268344\n",
      "Corresponding parameter setting:\n",
      "a: 0.998\n",
      "b: 6.36793\n",
      "c: 0.725256\n",
      "d: 0.151498\n",
      "m: 0.695548\n",
      "******************************\n",
      "\n",
      "Calibration KGE: 0.26834315751969806, Validation KGE: -0.05615777623632101\n",
      "D:/Xanthos-Repo/example/output/pm_abcd_mrtm_watch_1971_2001\\simulation_outputs\\Basin_183_Simulated_Runoff_mmpermonth.npy\n",
      "\tCalibrating Basin:  142\n",
      "Initializing the  Shuffled Complex Evolution (SCE-UA) algorithm  with  10000  repetitions\n",
      "The objective function will be minimized\n",
      "Starting burn-in sampling...\n",
      "Initialize database...\n",
      "['csv', 'hdf5', 'ram', 'sql', 'custom', 'noData']\n",
      "* Database file 'D:/Xanthos-Repo/example/output/pm_abcd_mrtm_watch_1971_2001\\calibration_outputs\\Basin_142_calibration_sceua_Runoff_ObjF_monthlyKGE.csv' created.\n",
      "6 of 10000, minimal objective function=-0.372243, time remaining: 00:54:13\n",
      "12 of 10000, minimal objective function=-0.372243, time remaining: 00:58:22\n",
      "18 of 10000, minimal objective function=-0.372243, time remaining: 01:00:38\n",
      "24 of 10000, minimal objective function=-0.372243, time remaining: 01:01:27\n",
      "30 of 10000, minimal objective function=-0.372243, time remaining: 01:01:49\n",
      "36 of 10000, minimal objective function=-0.372243, time remaining: 01:02:12\n",
      "41 of 10000, minimal objective function=-0.372243, time remaining: 01:03:15\n",
      "46 of 10000, minimal objective function=-0.372243, time remaining: 01:03:39\n",
      "51 of 10000, minimal objective function=-0.372243, time remaining: 01:04:18\n",
      "56 of 10000, minimal objective function=-0.372243, time remaining: 01:04:30\n",
      "61 of 10000, minimal objective function=-0.372243, time remaining: 01:04:42\n",
      "66 of 10000, minimal objective function=-0.42506, time remaining: 01:04:49\n",
      "71 of 10000, minimal objective function=-0.42506, time remaining: 01:04:56\n",
      "76 of 10000, minimal objective function=-0.42506, time remaining: 01:05:03\n",
      "82 of 10000, minimal objective function=-0.42506, time remaining: 01:05:00\n",
      "88 of 10000, minimal objective function=-0.42506, time remaining: 01:04:57\n",
      "93 of 10000, minimal objective function=-0.42506, time remaining: 01:04:59\n",
      "99 of 10000, minimal objective function=-0.42506, time remaining: 01:04:59\n",
      "104 of 10000, minimal objective function=-0.42506, time remaining: 01:05:04\n",
      "109 of 10000, minimal objective function=-0.42506, time remaining: 01:05:08\n",
      "115 of 10000, minimal objective function=-0.42506, time remaining: 01:05:07\n",
      "121 of 10000, minimal objective function=-0.42506, time remaining: 01:05:03\n",
      "127 of 10000, minimal objective function=-0.42506, time remaining: 01:05:02\n",
      "133 of 10000, minimal objective function=-0.42506, time remaining: 01:04:56\n",
      "139 of 10000, minimal objective function=-0.42506, time remaining: 01:04:52\n",
      "145 of 10000, minimal objective function=-0.42506, time remaining: 01:04:49\n",
      "151 of 10000, minimal objective function=-0.42506, time remaining: 01:04:44\n",
      "157 of 10000, minimal objective function=-0.42506, time remaining: 01:04:37\n",
      "163 of 10000, minimal objective function=-0.42506, time remaining: 01:04:34\n",
      "169 of 10000, minimal objective function=-0.42506, time remaining: 01:04:30\n",
      "175 of 10000, minimal objective function=-0.58678, time remaining: 01:04:26\n",
      "180 of 10000, minimal objective function=-0.58678, time remaining: 01:04:29\n",
      "185 of 10000, minimal objective function=-0.58678, time remaining: 01:04:32\n",
      "190 of 10000, minimal objective function=-0.58678, time remaining: 01:04:32\n",
      "196 of 10000, minimal objective function=-0.58678, time remaining: 01:04:30\n",
      "202 of 10000, minimal objective function=-0.58678, time remaining: 01:04:29\n",
      "208 of 10000, minimal objective function=-0.58678, time remaining: 01:04:25\n",
      "213 of 10000, minimal objective function=-0.58678, time remaining: 01:04:24\n",
      "219 of 10000, minimal objective function=-0.58678, time remaining: 01:04:20\n",
      "225 of 10000, minimal objective function=-0.58678, time remaining: 01:04:19\n",
      "231 of 10000, minimal objective function=-0.58678, time remaining: 01:04:17\n",
      "236 of 10000, minimal objective function=-0.58678, time remaining: 01:04:16\n",
      "241 of 10000, minimal objective function=-0.58678, time remaining: 01:04:16\n",
      "247 of 10000, minimal objective function=-0.58678, time remaining: 01:04:13\n",
      "252 of 10000, minimal objective function=-0.58678, time remaining: 01:04:13\n",
      "258 of 10000, minimal objective function=-0.58678, time remaining: 01:04:12\n",
      "264 of 10000, minimal objective function=-0.58678, time remaining: 01:04:07\n",
      "269 of 10000, minimal objective function=-0.58678, time remaining: 01:04:11\n",
      "274 of 10000, minimal objective function=-0.58678, time remaining: 01:04:12\n",
      "279 of 10000, minimal objective function=-0.58678, time remaining: 01:04:11\n",
      "285 of 10000, minimal objective function=-0.58678, time remaining: 01:04:09\n",
      "291 of 10000, minimal objective function=-0.58678, time remaining: 01:04:05\n",
      "296 of 10000, minimal objective function=-0.58678, time remaining: 01:04:03\n",
      "302 of 10000, minimal objective function=-0.58678, time remaining: 01:04:00\n",
      "307 of 10000, minimal objective function=-0.58678, time remaining: 01:04:01\n",
      "312 of 10000, minimal objective function=-0.58678, time remaining: 01:04:01\n",
      "318 of 10000, minimal objective function=-0.58678, time remaining: 01:03:57\n",
      "324 of 10000, minimal objective function=-0.58678, time remaining: 01:03:54\n",
      "330 of 10000, minimal objective function=-0.58678, time remaining: 01:03:50\n",
      "336 of 10000, minimal objective function=-0.58678, time remaining: 01:03:47\n",
      "342 of 10000, minimal objective function=-0.58678, time remaining: 01:03:43\n",
      "348 of 10000, minimal objective function=-0.58678, time remaining: 01:03:41\n",
      "353 of 10000, minimal objective function=-0.58678, time remaining: 01:03:46\n",
      "358 of 10000, minimal objective function=-0.58678, time remaining: 01:03:45\n",
      "364 of 10000, minimal objective function=-0.58678, time remaining: 01:03:42\n",
      "370 of 10000, minimal objective function=-0.731066, time remaining: 01:03:39\n",
      "376 of 10000, minimal objective function=-0.731066, time remaining: 01:03:37\n",
      "382 of 10000, minimal objective function=-0.731066, time remaining: 01:03:33\n",
      "387 of 10000, minimal objective function=-0.731066, time remaining: 01:03:32\n",
      "393 of 10000, minimal objective function=-0.731066, time remaining: 01:03:29\n",
      "399 of 10000, minimal objective function=-0.731066, time remaining: 01:03:25\n",
      "405 of 10000, minimal objective function=-0.731066, time remaining: 01:03:22\n",
      "410 of 10000, minimal objective function=-0.731066, time remaining: 01:03:21\n",
      "416 of 10000, minimal objective function=-0.731066, time remaining: 01:03:19\n",
      "421 of 10000, minimal objective function=-0.731066, time remaining: 01:03:18\n",
      "427 of 10000, minimal objective function=-0.731066, time remaining: 01:03:15\n",
      "433 of 10000, minimal objective function=-0.731066, time remaining: 01:03:11\n",
      "439 of 10000, minimal objective function=-0.731066, time remaining: 01:03:08\n",
      "445 of 10000, minimal objective function=-0.731066, time remaining: 01:03:03\n",
      "451 of 10000, minimal objective function=-0.731066, time remaining: 01:03:00\n",
      "457 of 10000, minimal objective function=-0.731066, time remaining: 01:02:55\n",
      "463 of 10000, minimal objective function=-0.731066, time remaining: 01:02:51\n",
      "469 of 10000, minimal objective function=-0.731066, time remaining: 01:02:47\n",
      "475 of 10000, minimal objective function=-0.731066, time remaining: 01:02:42\n",
      "481 of 10000, minimal objective function=-0.731066, time remaining: 01:02:39\n",
      "487 of 10000, minimal objective function=-0.731066, time remaining: 01:02:34\n",
      "493 of 10000, minimal objective function=-0.731066, time remaining: 01:02:30\n",
      "499 of 10000, minimal objective function=-0.731066, time remaining: 01:02:28\n",
      "505 of 10000, minimal objective function=-0.731066, time remaining: 01:02:25\n",
      "511 of 10000, minimal objective function=-0.731066, time remaining: 01:02:20\n",
      "517 of 10000, minimal objective function=-0.731066, time remaining: 01:02:19\n",
      "523 of 10000, minimal objective function=-0.731066, time remaining: 01:02:16\n",
      "529 of 10000, minimal objective function=-0.731066, time remaining: 01:02:13\n",
      "535 of 10000, minimal objective function=-0.731066, time remaining: 01:02:11\n",
      "540 of 10000, minimal objective function=-0.731066, time remaining: 01:02:10\n",
      "545 of 10000, minimal objective function=-0.731066, time remaining: 01:02:12\n",
      "550 of 10000, minimal objective function=-0.731066, time remaining: 01:02:13\n",
      "Burn-in sampling completed...\n",
      "Starting Complex Evolution...\n",
      "SEARCH WAS STOPPED AT TRIAL NUMBER: 550\n",
      "NUMBER OF DISCARDED TRIALS: 0\n",
      "NORMALIZED GEOMETRIC RANGE = nan\n",
      "THE BEST POINT HAS IMPROVED IN LAST 50 LOOPS BY 100000.000000 PERCENT\n",
      "\n",
      "*** Final SPOTPY summary ***\n",
      "Total Duration: 217.67 seconds\n",
      "Total Repetitions: 550\n",
      "Minimal objective value: -0.731066\n",
      "Corresponding parameter setting:\n",
      "a: 0.997391\n",
      "b: 1.51286\n",
      "c: 0.211115\n",
      "d: 0.598815\n",
      "m: 0.0472172\n",
      "******************************\n",
      "\n"
     ]
    },
    {
     "name": "stderr",
     "output_type": "stream",
     "text": [
      "INFO: components.output_simulation(): ---Output simulation results:\n"
     ]
    },
    {
     "name": "stdout",
     "output_type": "stream",
     "text": [
      "Calibration KGE: 0.7310665790373271, Validation KGE: 0.6956132050442887\n",
      "D:/Xanthos-Repo/example/output/pm_abcd_mrtm_watch_1971_2001\\simulation_outputs\\Basin_142_Simulated_Runoff_mmpermonth.npy\n",
      "INFO: ---Output simulation results:\n"
     ]
    },
    {
     "name": "stderr",
     "output_type": "stream",
     "text": [
      "DEBUG: out_writer.write(): No valid output variables specified\n"
     ]
    },
    {
     "name": "stdout",
     "output_type": "stream",
     "text": [
      "DEBUG: No valid output variables specified\n"
     ]
    },
    {
     "name": "stderr",
     "output_type": "stream",
     "text": [
      "INFO: out_writer.write_aggregates(): Aggregated unit is km3permonth\n"
     ]
    },
    {
     "name": "stdout",
     "output_type": "stream",
     "text": [
      "INFO: Aggregated unit is km3permonth\n"
     ]
    },
    {
     "name": "stderr",
     "output_type": "stream",
     "text": [
      "INFO: components.output_simulation(): ---Output finished: 0.003989219665527344 seconds ---\n"
     ]
    },
    {
     "name": "stdout",
     "output_type": "stream",
     "text": [
      "INFO: ---Output finished: 0.003989219665527344 seconds ---\n"
     ]
    },
    {
     "name": "stderr",
     "output_type": "stream",
     "text": [
      "INFO: model.cleanup(): End of pm_abcd_mrtm_watch_1971_2001\n"
     ]
    },
    {
     "name": "stdout",
     "output_type": "stream",
     "text": [
      "INFO: End of pm_abcd_mrtm_watch_1971_2001\n"
     ]
    }
   ],
   "source": [
    "import os\n",
    "import warnings\n",
    "warnings.filterwarnings(\"ignore\")\n",
    "\n",
    "from xanthos import Xanthos\n",
    "\n",
    "\n",
    "def run(ini):\n",
    "\n",
    "    # instantiate model\n",
    "    xth = Xanthos(ini)\n",
    "\n",
    "    # run intended configuration\n",
    "    xth.execute()\n",
    "\n",
    "    return xth\n",
    "\n",
    "\n",
    "if __name__ == \"__main__\":\n",
    "\n",
    "    # full path to parameterized config file\n",
    "    ini = os.path.join('D:/Xanthos-Repo/xanthos-wm/xanthos-wm/pm_abcd_mrtm_managed.ini')\n",
    "\n",
    "    # run the model\n",
    "    xth = run(ini)\n",
    "\n",
    "    del xth"
   ]
  },
  {
   "cell_type": "code",
   "execution_count": 2,
   "metadata": {},
   "outputs": [
    {
     "ename": "NameError",
     "evalue": "name 'ghy' is not defined",
     "output_type": "error",
     "traceback": [
      "\u001b[1;31m---------------------------------------------------------------------------\u001b[0m",
      "\u001b[1;31mNameError\u001b[0m                                 Traceback (most recent call last)",
      "Cell \u001b[1;32mIn[2], line 1\u001b[0m\n\u001b[1;32m----> 1\u001b[0m ghy\n",
      "\u001b[1;31mNameError\u001b[0m: name 'ghy' is not defined"
     ]
    }
   ],
   "source": [
    "ghy"
   ]
  },
  {
   "cell_type": "code",
   "execution_count": null,
   "metadata": {},
   "outputs": [],
   "source": [
    "'D:/Xanthos-Repo/example/output/pm_abcd_mrtm_watch_1971_2001/calibration_output/Basin_229_calibration_sceua_Runoff_ObjF_monthlyKGE.csv'\n",
    "'D:/Xanthos-Repo/example/output/pm_abcd_mrtm_watch_1971_2001/calibration_output/Basin_229_calibration_sceua_Runoff_ObjF_monthlyKGE.csv'"
   ]
  },
  {
   "cell_type": "code",
   "execution_count": null,
   "metadata": {},
   "outputs": [],
   "source": [
    "out_dir = 'D:/Xanthos-Repo/xanthos-wm/xanthos-wm/pm_abcd_mrtm_managed.ini'\n",
    "os.path.join(out_dir,\n",
    "             f\"Basin_{10}_calibration_\", \"_calibration_\")"
   ]
  },
  {
   "cell_type": "code",
   "execution_count": null,
   "metadata": {},
   "outputs": [],
   "source": [
    "# import numpy as np\n",
    "# import pandas as pd\n",
    "# import matplotlib.pyplot as plt\n",
    "# import xarray\n",
    "# import os\n",
    "\n",
    "# os.chdir('D:\\XanthosDev\\example\\input\\calibration')\n",
    "# reservoirs_halfDegree = xarray.open_dataset('Xanthos_reservoirs_halfDegree_global.nc')\n",
    "# ppose = reservoirs_halfDegree.Main_Use.values\n",
    "# Capacity = reservoirs_halfDegree.Capacity.values\n",
    "# Basin = reservoirs_halfDegree.Basin.values\n",
    "# # get grid indices for the current basin\n",
    "# dir_usgrid = 'D:/XanthosDev/Figures/Basins_Result/UScells/contributing_grids_all'\n",
    "# basin_num = 233\n",
    "# datad = (np.array(pd.read_csv(dir_usgrid + str(basin_num) + '.csv',header=None)) - 1).astype(np.int64)\n",
    "# basin_idx = np.squeeze(datad) \n",
    "\n",
    "# ppose_df = ppose[basin_idx]\n",
    "# Capacity_df = Capacity[basin_idx]\n",
    "\n",
    "# ppose_dfbasin = ppose_df[ppose_df>0]\n",
    "# capacity_dfbasin = Capacity_df[ppose_df>0]\n",
    "\n",
    "# indx_basin = np.where(ppose_dfbasin==1)[0]\n",
    "# #capacity_dfbasinHP = capacity_dfbasin[indx_basin]"
   ]
  },
  {
   "cell_type": "code",
   "execution_count": null,
   "metadata": {},
   "outputs": [],
   "source": [
    "# import numpy as np\n",
    "# import pandas as pd\n",
    "\n",
    "\n",
    "# #RSx = np.load('D:/XanthosDev/Figures/RunResult-02022022/ResStorage_' + str(basin_num)+ '.npy')\n",
    "# RSx = np.load('D:\\\\XanthosDev\\\\Mengqi\\\\SimReservoirs_229.npy')\n",
    "# RS =RSx[indx_basin,:]\n",
    "# pd.DataFrame(RS)\n",
    "\n"
   ]
  },
  {
   "cell_type": "code",
   "execution_count": null,
   "metadata": {},
   "outputs": [],
   "source": [
    "import pandas as pd\n",
    "import numpy as np\n",
    "GRDC_stations = pd.read_csv('D:/Xanthos-Repo/example/input/GRDC_stations_selected_final_list_2.csv')\n",
    "basins = GRDC_stations.basins.values.astype(np.int)"
   ]
  },
  {
   "cell_type": "code",
   "execution_count": null,
   "metadata": {},
   "outputs": [],
   "source": [
    "optimal_parameters = np.ones([len(basins),8]) * np.nan\n",
    "for ii in range(len(basins)-4):\n",
    "    data_dir = 'D:/Xanthos-Repo/converged/basin_calibration_' + str(basins[ii]) + 'd.csv'\n",
    "    data = pd.read_csv(data_dir)\n",
    "    data_sorted = data.sort_values(by = 'like1',ascending=True).reset_index(drop=True)\n",
    "    optimal_parameters[ii, 0:7] = data_sorted[['para', 'parb', 'parc', 'pard', 'parm', 'parwmbeta','parwmalpha']].loc[0].values    \n",
    "    optimal_parameters[ii,7] = basins[ii].astype(np.int)"
   ]
  },
  {
   "cell_type": "code",
   "execution_count": null,
   "metadata": {},
   "outputs": [],
   "source": [
    "pd.DataFrame(optimal_parameters)"
   ]
  },
  {
   "cell_type": "code",
   "execution_count": null,
   "metadata": {},
   "outputs": [],
   "source": [
    "data_sorted"
   ]
  },
  {
   "cell_type": "code",
   "execution_count": null,
   "metadata": {},
   "outputs": [],
   "source": [
    "np.save('optimal_parameters.npy',optimal_parameters)"
   ]
  }
 ],
 "metadata": {
  "kernelspec": {
   "display_name": "py3env",
   "language": "python",
   "name": "python3"
  },
  "language_info": {
   "codemirror_mode": {
    "name": "ipython",
    "version": 3
   },
   "file_extension": ".py",
   "mimetype": "text/x-python",
   "name": "python",
   "nbconvert_exporter": "python",
   "pygments_lexer": "ipython3",
   "version": "3.10.8"
  },
  "orig_nbformat": 4,
  "vscode": {
   "interpreter": {
    "hash": "68ffaf46e1ea782e83255b22895c840c8edbc6bf305afc8b520f2f8e2de3850a"
   }
  }
 },
 "nbformat": 4,
 "nbformat_minor": 2
}
